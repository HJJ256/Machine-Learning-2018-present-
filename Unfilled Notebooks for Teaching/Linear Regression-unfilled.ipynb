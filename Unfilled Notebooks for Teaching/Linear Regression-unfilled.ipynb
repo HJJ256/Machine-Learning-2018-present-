{
 "cells": [
  {
   "cell_type": "code",
   "execution_count": null,
   "metadata": {},
   "outputs": [],
   "source": [
    "import numpy as np\n",
    "import matplotlib.pyplot as plt\n",
    "from matplotlib import style\n",
    "style.use('ggplot')\n",
    "import pandas as pd\n",
    "import seaborn as sns\n",
    "%matplotlib notebook"
   ]
  },
  {
   "cell_type": "code",
   "execution_count": null,
   "metadata": {},
   "outputs": [],
   "source": [
    "xs = np.?([1,2,3,4,5]) #creating a toy dataset to test algorithms on\n",
    "ys = np.?([5,4,6,5,6]) #We usually do this to see if we have implemented an algorithm correctly\n",
    "#if a general algorithm is implemented correctly for this dataset it can be used for all kinds of datasets\n",
    "#You just have to bring your dataset in this form of x and y before passing them through a function"
   ]
  },
  {
   "cell_type": "code",
   "execution_count": null,
   "metadata": {},
   "outputs": [],
   "source": [
    "plt.?(xs,ys)"
   ]
  },
  {
   "cell_type": "code",
   "execution_count": null,
   "metadata": {},
   "outputs": [],
   "source": [
    "#function to find best fit slope (weight) and y-intercept (bias), derivation of this formula was done in class\n",
    "def best_fit_slope_intercept(xs,ys):\n",
    "    theta = ?\n",
    "    #np.mean function gives mean of all the numbers in an np array\n",
    "    b = ?\n",
    "    return theta,b\n",
    "    \n",
    "theta,b = ?(xs,ys)\n",
    "\n",
    "print(theta,b)"
   ]
  },
  {
   "cell_type": "code",
   "execution_count": null,
   "metadata": {},
   "outputs": [],
   "source": [
    "y_predicted = ? #Once we have our weight and bias, we can use these values to find predicted point for any x\n",
    "#We use the formula (y_hat = theta*x + b) to get the predicted value for any x"
   ]
  },
  {
   "cell_type": "code",
   "execution_count": null,
   "metadata": {},
   "outputs": [],
   "source": [
    "ys"
   ]
  },
  {
   "cell_type": "code",
   "execution_count": null,
   "metadata": {},
   "outputs": [],
   "source": [
    "y_predicted"
   ]
  },
  {
   "cell_type": "code",
   "execution_count": null,
   "metadata": {},
   "outputs": [],
   "source": [
    "np.?((ys-y_predicted)**2)"
   ]
  },
  {
   "cell_type": "code",
   "execution_count": null,
   "metadata": {},
   "outputs": [],
   "source": [
    "plt.?(xs,ys,color='b') #scatter is used to scatter the points given in the x and y arrays \n",
    "#where x is the list of the x-coordinates of all the points and y is the list of the y-coordinates of all the points \n",
    "plt.?(xs , y_predicted)\n",
    "#This plots a continuous line graph on the plot\n",
    "#since all y_predicted values are calculated using the formula of line on corresponding x values\n",
    "#all the points (x,y_predicted) have to be colinear and hence a line is plotted\n",
    "plt.?(xs,y_predicted)\n",
    "plt.show()"
   ]
  },
  {
   "cell_type": "code",
   "execution_count": null,
   "metadata": {},
   "outputs": [],
   "source": [
    "def predict(x): #Created a function which returns predicted values for ease of reusability\n",
    "    return ?"
   ]
  },
  {
   "cell_type": "code",
   "execution_count": null,
   "metadata": {},
   "outputs": [],
   "source": [
    "predict(np.array([3,8,6,4,2])) #numpy array arithematics make it possible to find multiple predicted values at once"
   ]
  },
  {
   "cell_type": "code",
   "execution_count": null,
   "metadata": {},
   "outputs": [],
   "source": [
    "predict(25)"
   ]
  },
  {
   "cell_type": "code",
   "execution_count": null,
   "metadata": {
    "scrolled": true
   },
   "outputs": [],
   "source": [
    "df = pd.?('bike sharing hour.csv')\n",
    "df.head()"
   ]
  },
  {
   "cell_type": "code",
   "execution_count": null,
   "metadata": {},
   "outputs": [],
   "source": [
    "import pandas as pd"
   ]
  },
  {
   "cell_type": "code",
   "execution_count": null,
   "metadata": {
    "scrolled": false
   },
   "outputs": [],
   "source": [
    "df = pd.?('bike sharing hour.csv')\n",
    "#list(df)\n",
    "df.?(['dteday'],axis=1,inplace = True)\n",
    "df.?(['instant'],axis=1,inplace = True)\n",
    "full_data = df.?(float).values.tolist()\n",
    "df.head()\n",
    "#Everything about data frames was already explained in KNN  Notebook"
   ]
  },
  {
   "cell_type": "code",
   "execution_count": null,
   "metadata": {},
   "outputs": [],
   "source": [
    "corr = np.?(np.array(full_data).T)"
   ]
  },
  {
   "cell_type": "code",
   "execution_count": null,
   "metadata": {},
   "outputs": [],
   "source": [
    "corr = np.?(corr,decimals=3)"
   ]
  },
  {
   "cell_type": "code",
   "execution_count": null,
   "metadata": {
    "scrolled": false
   },
   "outputs": [],
   "source": [
    "sns.?(font_scale=0.75)\n",
    "ax = sns.?(corr, linewidth=0,annot=True,xticklabels=list(df),yticklabels=list(df))\n",
    "plt.show()"
   ]
  },
  {
   "cell_type": "code",
   "execution_count": null,
   "metadata": {},
   "outputs": [],
   "source": [
    "header = list(df) #returns the names of all columns in tbe dataframe"
   ]
  },
  {
   "cell_type": "code",
   "execution_count": null,
   "metadata": {},
   "outputs": [],
   "source": [
    "header"
   ]
  },
  {
   "cell_type": "code",
   "execution_count": null,
   "metadata": {},
   "outputs": [],
   "source": [
    "header = header[-3:]"
   ]
  },
  {
   "cell_type": "code",
   "execution_count": null,
   "metadata": {},
   "outputs": [],
   "source": [
    "header"
   ]
  },
  {
   "cell_type": "code",
   "execution_count": null,
   "metadata": {
    "scrolled": false
   },
   "outputs": [],
   "source": [
    "xs = np.?(full_data)[:,-3:-1] #Now we have to bring our data in the form of toy dataset \n",
    "#for applying best_fit_slope_intercept function\n",
    "#We are only considering the last 2 columns of features here as all other features are either categorical or\n",
    "#too random to apply regression on (i.e they dont follow a specific shape)\n",
    "ys = np.?(full_data)[:,-1]"
   ]
  },
  {
   "cell_type": "code",
   "execution_count": null,
   "metadata": {
    "scrolled": true
   },
   "outputs": [],
   "source": [
    "xs #17379 rows and 2 columns"
   ]
  },
  {
   "cell_type": "code",
   "execution_count": null,
   "metadata": {},
   "outputs": [],
   "source": [
    "ys.shape #gives the number of rows and colums in a 2D array and number of rows in a 1D array\n",
    "#Experiment with this function a lot so that you understand all the different types of shapes your data can assumee.\n",
    "#This function is really helpful while dealing with Image and Audio Data"
   ]
  },
  {
   "cell_type": "code",
   "execution_count": null,
   "metadata": {
    "scrolled": false
   },
   "outputs": [],
   "source": [
    "for i in range(0,len(xs[0])):\n",
    "    theta1,b1 = ?(xs[:,i],ys)\n",
    "    print(theta1,b1)\n",
    "    plt.?(xs[:,i],ys,label = \n",
    "                header[i],color = 'g') #Since I only took columns -3 and -2\n",
    "    #i have to label my line and scatter plot points as such thus I manipulated the slicing of my header list\n",
    "    plt.?(xs[:,i],theta1*xs[:,i]+b1,label = \n",
    "             'pred' + header[i])\n",
    "    plt.?(loc = 'best') #Gives the legend to the graph for better understanding during analysis\n",
    "    #plt.savefig('plot_'+header[-3+i]+'.png') #Saves the graph in the notebook folder as png file\n",
    "    plt.?() #Shows the graph"
   ]
  },
  {
   "cell_type": "code",
   "execution_count": null,
   "metadata": {},
   "outputs": [],
   "source": [
    "#As we had studied earlier, since simple linear regression only considers one attribute at a time\n",
    "#It cannot figure out the correlation that exists between different attributes and that's why we use \n",
    "#multiple linear regression for datasets with more than one feature"
   ]
  },
  {
   "cell_type": "code",
   "execution_count": null,
   "metadata": {},
   "outputs": [],
   "source": []
  },
  {
   "cell_type": "code",
   "execution_count": null,
   "metadata": {},
   "outputs": [],
   "source": []
  }
 ],
 "metadata": {
  "kernelspec": {
   "display_name": "Python 3",
   "language": "python",
   "name": "python3"
  },
  "language_info": {
   "codemirror_mode": {
    "name": "ipython",
    "version": 3
   },
   "file_extension": ".py",
   "mimetype": "text/x-python",
   "name": "python",
   "nbconvert_exporter": "python",
   "pygments_lexer": "ipython3",
   "version": "3.6.9"
  }
 },
 "nbformat": 4,
 "nbformat_minor": 2
}
