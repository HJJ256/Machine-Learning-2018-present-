{
 "cells": [
  {
   "cell_type": "code",
   "execution_count": null,
   "metadata": {},
   "outputs": [],
   "source": [
    "import matplotlib.pyplot as plt\n",
    "from matplotlib import style\n",
    "import numpy as np\n",
    "style.use(\"ggplot\")"
   ]
  },
  {
   "cell_type": "code",
   "execution_count": null,
   "metadata": {
    "scrolled": true
   },
   "outputs": [],
   "source": [
    "#Taking 2 dimensional dummy data (Algo works for any number of dimensions)\n",
    "X = np.array([[1,2],\n",
    "              [1.5,1.8],\n",
    "              [5,8],\n",
    "             [8,8],\n",
    "              [1,0.6],\n",
    "             [9,11]])\n",
    "X"
   ]
  },
  {
   "cell_type": "code",
   "execution_count": null,
   "metadata": {},
   "outputs": [],
   "source": [
    "#Making a class for K_Means classifier with functions like fit and predict\n",
    "class K_Means: #Taken from sklearn library \n",
    "    \n",
    "    def __init__(self,k=2,tol=0.001,max_iter=300):\n",
    "        self.k = k\n",
    "        self.tol = tol\n",
    "        self.max_iter = max_iter\n",
    "        #self.all_c = {}\n",
    "   \n",
    "    def fit(self,data): #Used for training classifier\n",
    "        #fig = plt.figure()\n",
    "        #ax = plt.axes()\n",
    "        \n",
    "        #def cenPlot(cent): #used to plot the path of centroids\n",
    "            #for centroid in cent:\n",
    "                #plt.scatter(cent[centroid][0],cent[centroid][1],marker='x',s=50)\n",
    "                #plt.plot(cent[centroid][0],cent[centroid][1])\n",
    "                \n",
    "            #plt.show() #comment this line if you want everything in 1 graph\n",
    "            \n",
    "        self.centroids = ? #{0:[1,2], 1:[1.5,1.8]}\n",
    "        ?: #1\n",
    "            ? = ?\n",
    "            #self.all_c[i] = [[data[i][0]],[data[i][1]]]\n",
    "            \n",
    "            \n",
    "        ?:\n",
    "            self.classifications = {} #{0:[],1:[]} --> Cluster Dictionary\n",
    "            ?:\n",
    "                self.classifications[i] = []\n",
    "                            \n",
    "            ?: #Finding distances from all centroids and comparing them for each point in dataset\n",
    "                distances = ?\n",
    "                classification = ? #Taking index of minimum distance\n",
    "                self.classifications[classification].?(featureset) #classifying point to cluster of min distance\n",
    "            \n",
    "            prev_centroids = ?(self.centroids)\n",
    "            \n",
    "            ?: #0,1\n",
    "                \n",
    "                self.centroids[classification] = np.average(self.classifications[classification],axis=0)\n",
    "                #self.all_c[classification][0].append(self.centroids[classification][0])\n",
    "                #self.all_c[classification][1].append(self.centroids[classification][1])\n",
    "                \n",
    "            optimized = True\n",
    "            \n",
    "            ?: #0 --> 1\n",
    "                original_centroid = prev_centroids[c] #[1,2]\n",
    "                current_centroid = self.centroids[c] #[1,2]\n",
    "                if np.?(((?-?)/?)*100 > self.tol): \n",
    "                    #checking if clusters moved significantly (acc. to tolerancne value)\n",
    "                    optimized = False\n",
    "                    \n",
    "            if optimized:\n",
    "                #cenPlot(self.all_c)\n",
    "                break\n",
    "                    \n",
    "        #anim = animation.FuncAnimation(fig,animate,1000)\n",
    "        #plt.show()\n",
    "        \n",
    "    def predict(self,data):\n",
    "        distances = ?\n",
    "        classification = ?\n",
    "        return classification"
   ]
  },
  {
   "cell_type": "code",
   "execution_count": null,
   "metadata": {},
   "outputs": [],
   "source": [
    "colors = ?*[\"g\",\"r\",\"c\",\"b\",\"k\"]"
   ]
  },
  {
   "cell_type": "code",
   "execution_count": null,
   "metadata": {},
   "outputs": [],
   "source": [
    "clf = ?\n",
    "clf.?(X)\n",
    "print(clf.centroids)\n",
    "print(clf.predict([2,1]))\n",
    "?:\n",
    "    color = colors[classification]\n",
    "    ?:\n",
    "        plt.scatter(featureset[0],featureset[1],\n",
    "                    marker = \"o\",s=90,\n",
    "                    color = color)\n",
    "for centroid in clf.centroids:\n",
    "    plt.scatter(clf.centroids[centroid][0],\n",
    "                clf.centroids[centroid][1],\n",
    "                marker = \"x\" , \n",
    "                color = \"k\",s=50)\n",
    "#print(clf.all_c)\n",
    "plt.scatter(2,1,color='b',s = 90)\n",
    "plt.show()"
   ]
  },
  {
   "cell_type": "code",
   "execution_count": null,
   "metadata": {
    "scrolled": true
   },
   "outputs": [],
   "source": [
    "print(clf.centroids)"
   ]
  },
  {
   "cell_type": "markdown",
   "metadata": {},
   "source": [
    "## Explanation"
   ]
  },
  {
   "cell_type": "code",
   "execution_count": null,
   "metadata": {
    "scrolled": false
   },
   "outputs": [],
   "source": [
    "for featureset in X:\n",
    "    print(featureset)"
   ]
  },
  {
   "cell_type": "code",
   "execution_count": null,
   "metadata": {},
   "outputs": [],
   "source": [
    "row = [100,200,300,400]\n",
    "centroids = {0:[1,2],1:[1.5,1.8]}\n",
    "classifications = {0:[],1:[]}\n",
    "for featureset in X:\n",
    "    distances = [np.linalg.norm(featureset - centroids[centroid]) \n",
    "         for centroid in centroids]\n",
    "    cluster_no = distances.index(min(distances))\n",
    "    classifications[cluster_no].append(featureset)\n",
    "print(classifications[1])\n",
    "print(np.average(classifications[1],axis = 0))\n",
    "centroids[0] = np.average(classifications[0],axis = 0)\n",
    "centroids[1] = np.average(classifications[1],axis = 0)\n",
    "centroids"
   ]
  },
  {
   "cell_type": "code",
   "execution_count": null,
   "metadata": {},
   "outputs": [],
   "source": [
    "dist = [0.69,0,73257]\n",
    "dist.index(min(dist))"
   ]
  },
  {
   "cell_type": "code",
   "execution_count": null,
   "metadata": {},
   "outputs": [],
   "source": [
    "optimised = True\n",
    "o_c = np.array([1.5,1.8])\n",
    "c_c = np.array([4.9,5.88]) #[226,226] > 0.01 --> np.sum([True,True])\n",
    "if np.sum(((c_c-o_c)/o_c)*100>0.01):\n",
    "    optimised = False"
   ]
  }
 ],
 "metadata": {
  "kernelspec": {
   "display_name": "Python 3",
   "language": "python",
   "name": "python3"
  },
  "language_info": {
   "codemirror_mode": {
    "name": "ipython",
    "version": 3
   },
   "file_extension": ".py",
   "mimetype": "text/x-python",
   "name": "python",
   "nbconvert_exporter": "python",
   "pygments_lexer": "ipython3",
   "version": "3.6.9"
  }
 },
 "nbformat": 4,
 "nbformat_minor": 2
}
