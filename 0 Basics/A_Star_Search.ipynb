{
  "nbformat": 4,
  "nbformat_minor": 0,
  "metadata": {
    "colab": {
      "name": "A* Search.ipynb",
      "provenance": [],
      "collapsed_sections": []
    },
    "kernelspec": {
      "name": "python3",
      "display_name": "Python 3"
    }
  },
  "cells": [
    {
      "cell_type": "code",
      "metadata": {
        "id": "tA10F2tkCsB4",
        "colab_type": "code",
        "colab": {}
      },
      "source": [
        "import numpy as np"
      ],
      "execution_count": 0,
      "outputs": []
    },
    {
      "cell_type": "code",
      "metadata": {
        "id": "z_wagKN6-o-B",
        "colab_type": "code",
        "colab": {}
      },
      "source": [
        ""
      ],
      "execution_count": 0,
      "outputs": []
    },
    {
      "cell_type": "code",
      "metadata": {
        "id": "OnX_11aiDJBm",
        "colab_type": "code",
        "colab": {}
      },
      "source": [
        "class Node:\n",
        "  def __init__(self,parent=None,position=None):\n",
        "    self.parent = parent\n",
        "    self.position = position\n",
        "\n",
        "    self.g = 0\n",
        "    self.h = 0\n",
        "    self.f = 0\n",
        "  \n",
        "  def __eq__(self,other):\n",
        "    return self.position == other.position"
      ],
      "execution_count": 0,
      "outputs": []
    },
    {
      "cell_type": "code",
      "metadata": {
        "id": "lDtnQAWwDl33",
        "colab_type": "code",
        "colab": {}
      },
      "source": [
        "def return_path(current_node,maze):\n",
        "  path = []\n",
        "  no_rows,no_columns = np.shape(maze)\n",
        "\n",
        "  result = [[-1 for i in range(no_columns)] for j in range(no_rows)]\n",
        "  current = current_node\n",
        "  while current is not None:\n",
        "    path.append(current.position)\n",
        "    current = current.parent\n",
        "  \n",
        "  path = path[::-1]\n",
        "  start_value = 0\n",
        "\n",
        "  for i in range(len(path)):\n",
        "    result[path[i][0]][path[i][1]] = start_value\n",
        "    start_value+=1\n",
        "  return result"
      ],
      "execution_count": 0,
      "outputs": []
    },
    {
      "cell_type": "code",
      "metadata": {
        "id": "yIhf4uYVEkmX",
        "colab_type": "code",
        "colab": {}
      },
      "source": [
        "def search(maze,cost,start,end):\n",
        "\n",
        "  start_node = Node(None,tuple(start))\n",
        "  start_node.g = start_node.h = start_node.f = 0\n",
        "  end_node = Node(None,tuple(end))\n",
        "  end_node.g = end_node.h = end_node.f=0\n",
        "\n",
        "  yet_to_visit = []\n",
        "  visited = []\n",
        "  yet_to_visit.append(start_node)\n",
        "  outer_iterations = 0\n",
        "  max_iterations = (len(maze)//2)**10\n",
        "  move = [[-1,0], #up\n",
        "          [0,-1], #left\n",
        "          [1,0], #down\n",
        "          [0,1]] #right\n",
        "  \n",
        "  no_rows,no_columns = np.shape(maze)\n",
        "\n",
        "  while len(yet_to_visit) > 0:\n",
        "    outer_iterations+=1\n",
        "\n",
        "    current_node = yet_to_visit[0]\n",
        "    current_index = 0\n",
        "\n",
        "    for index,item in enumerate(yet_to_visit):\n",
        "      if item.f<current_node.f:\n",
        "        current_node = item\n",
        "        current_index = index\n",
        "    \n",
        "    if outer_iterations > max_iterations:\n",
        "      print(\"too many iters\")\n",
        "      return return_path(current_node,maze)\n",
        "    \n",
        "    yet_to_visit.pop(current_index)\n",
        "    visited.append(current_node)\n",
        "\n",
        "    if current_node == end_node:\n",
        "      return return_path(current_node,maze)\n",
        "    \n",
        "    children = []\n",
        "\n",
        "    for new_position in move:\n",
        "      node_position = (current_node.position[0] + new_position[0],\n",
        "                       current_node.position[1] + new_position[1])\n",
        "      \n",
        "      if(node_position[0]>(no_rows-1) or\n",
        "         node_position[0]<0 or\n",
        "         node_position[1]>no_columns-1 or\n",
        "         node_position[1]<0):\n",
        "        continue\n",
        "      \n",
        "      if maze[node_position[0]][node_position[1]]!=0:\n",
        "        continue\n",
        "\n",
        "      new_node = Node(current_node,node_position)\n",
        "\n",
        "      children.append(new_node)\n",
        "    \n",
        "    for child in children:\n",
        "\n",
        "      if len([visited_child for visited_child in visited if visited_child==child]) > 0:\n",
        "        continue\n",
        "      \n",
        "      child.g = current_node.g+cost\n",
        "      child.h = (((child.position[0] - end_node.position[0])**2)+((child.position[1] - end_node.position[1])**2))\n",
        "      child.f = child.g + child.h\n",
        "\n",
        "      if len([i for i in yet_to_visit if child == i and child.g>i.g])>0:\n",
        "        continue\n",
        "      \n",
        "      yet_to_visit.append(child)"
      ],
      "execution_count": 0,
      "outputs": []
    },
    {
      "cell_type": "code",
      "metadata": {
        "id": "9KXVV1-_wdUq",
        "colab_type": "code",
        "outputId": "88cbd561-211a-4739-cc27-13b99608fcfe",
        "colab": {
          "base_uri": "https://localhost:8080/",
          "height": 102
        }
      },
      "source": [
        "maze = [[0,1,0,0,0,0],\n",
        "        [0,0,0,0,0,0],\n",
        "        [0,1,0,1,0,0],\n",
        "        [0,1,0,0,1,0],\n",
        "        [0,0,0,0,1,0]]\n",
        "\n",
        "start = [0,0]\n",
        "end = [4,5]\n",
        "cost = 1\n",
        "\n",
        "path = search(maze,cost,start,end)\n",
        "for i in path:\n",
        "  for j in i:\n",
        "    print(\"{:\" \">3d}\".format(j),end=\" \")\n",
        "  print()"
      ],
      "execution_count": 0,
      "outputs": [
        {
          "output_type": "stream",
          "text": [
            "  0  -1  -1  -1  -1  -1 \n",
            "  1   2   3   4   5  -1 \n",
            " -1  -1  -1  -1   6   7 \n",
            " -1  -1  -1  -1  -1   8 \n",
            " -1  -1  -1  -1  -1   9 \n"
          ],
          "name": "stdout"
        }
      ]
    },
    {
      "cell_type": "code",
      "metadata": {
        "id": "LQj2MqVj2ocm",
        "colab_type": "code",
        "colab": {}
      },
      "source": [
        ""
      ],
      "execution_count": 0,
      "outputs": []
    }
  ]
}