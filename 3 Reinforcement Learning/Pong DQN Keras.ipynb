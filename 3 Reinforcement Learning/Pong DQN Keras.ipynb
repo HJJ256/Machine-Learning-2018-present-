{
 "cells": [
  {
   "cell_type": "code",
   "execution_count": null,
   "metadata": {},
   "outputs": [],
   "source": [
    "from keras.models import Sequential\n",
    "from keras.layers import Conv2D, Dense, Flatten\n",
    "from keras.optimizers import Adam\n",
    "from wrappers import make_env\n",
    "from collections import deque\n",
    "import random\n",
    "import numpy as np"
   ]
  },
  {
   "cell_type": "code",
   "execution_count": null,
   "metadata": {},
   "outputs": [],
   "source": [
    "# Deep Q-learning Agent\n",
    "class DQNAgent:\n",
    "    def __init__(self, env):\n",
    "        self.state_size = env.observation_space.shape\n",
    "        self.action_size = env.action_space.n\n",
    "        self.memory = deque(maxlen=300000)\n",
    "        self.gamma = 0.95    # discount rate\n",
    "        self.epsilon = 1.0  # exploration rate\n",
    "        self.epsilon_min = 0.02\n",
    "        self.epsilon_decay = 0.999999\n",
    "        self.learning_rate = 1e-4\n",
    "        self.model = self._build_model()\n",
    "\n",
    "    def _build_model(self):\n",
    "        # Neural Net for Deep-Q learning Model\n",
    "        model = Sequential()\n",
    "        model.add(Conv2D(filters=32,kernel_size=(8,8),strides=(4,4),activation='relu',\n",
    "                         input_shape=(self.state_size[1],self.state_size[2],self.state_size[0])))\n",
    "        model.add(Conv2D(filters=64,kernel_size=(4,4),strides=(2,2),activation='relu'))\n",
    "        model.add(Conv2D(filters=64,kernel_size=(3,3),strides=(1,1),activation='relu'))\n",
    "        model.add(Flatten())\n",
    "        model.add(Dense(512, activation='relu'))\n",
    "        model.add(Dense(self.action_size, activation='linear'))\n",
    "        model.compile(loss='mse',\n",
    "                      optimizer=Adam(lr=self.learning_rate))\n",
    "        return model\n",
    "\n",
    "    def remember(self, state, action, reward, next_state, done):\n",
    "        self.memory.append((state, action, reward, next_state, done))\n",
    "\n",
    "    def act(self, state):\n",
    "        if np.random.rand() <= self.epsilon:\n",
    "            return random.randrange(self.action_size)\n",
    "        act_values = self.model.predict(state)\n",
    "        return np.argmax(act_values[0])  # returns action\n",
    "\n",
    "    def replay(self, batch_size):\n",
    "        minibatch = random.sample(self.memory, batch_size)\n",
    "        for state, action, reward, next_state, done in minibatch:\n",
    "            target = reward\n",
    "            if not done:\n",
    "                target = reward + self.gamma * \\\n",
    "                       np.amax(self.model.predict(next_state)[0])\n",
    "            target_f = self.model.predict(state)\n",
    "            target_f[0][action] = target\n",
    "            self.model.fit(state, target_f, epochs=1,verbose=0)\n",
    "        if self.epsilon > self.epsilon_min:\n",
    "            self.epsilon *= self.epsilon_decay"
   ]
  },
  {
   "cell_type": "code",
   "execution_count": null,
   "metadata": {},
   "outputs": [],
   "source": [
    "# initialize gym environment and the agent\n",
    "env = make_env('PongNoFrameskip-v0')\n",
    "agent = DQNAgent(env)\n",
    "env.observation_space.shape"
   ]
  },
  {
   "cell_type": "code",
   "execution_count": null,
   "metadata": {
    "scrolled": true
   },
   "outputs": [],
   "source": [
    "episodes = 5000\n",
    "min_memory = 20000\n",
    "# Iterate the game\n",
    "for e in range(episodes):\n",
    "\n",
    "    # reset state in the beginning of each game\n",
    "    state = env.reset()\n",
    "    state = np.reshape(state, [1,state.shape[1],state.shape[2],state.shape[0]])\n",
    "    done = False\n",
    "    rewards=0\n",
    "    while not done:\n",
    "        # turn this on if you want to render\n",
    "        if (e+1)%10 == 0:\n",
    "            env.render()\n",
    "\n",
    "        # Decide action\n",
    "        action = agent.act(state)\n",
    "\n",
    "        # Advance the game to the next frame based on the action.\n",
    "        next_state, reward, done, _ = env.step(action)\n",
    "        next_state = np.reshape(next_state, [1,next_state.shape[1],next_state.shape[2],next_state.shape[0]])\n",
    "\n",
    "        # Remember the previous state, action, reward, and done\n",
    "        agent.remember(state, action, reward, next_state, done)\n",
    "\n",
    "        # make next_state the new current state for the next frame.\n",
    "        state = next_state\n",
    "\n",
    "        rewards+=reward\n",
    "\n",
    "        # done becomes True when the game ends\n",
    "        if done:\n",
    "            # print the score and break out of the loop\n",
    "            print(\"episode: {}/{}, score: {}\".format(e, episodes, rewards))\n",
    "            \n",
    "    # train the agent with the experience of the episode\n",
    "    if len(agent.memory) > 20000:\n",
    "        agent.replay(64)"
   ]
  },
  {
   "cell_type": "code",
   "execution_count": null,
   "metadata": {},
   "outputs": [],
   "source": []
  }
 ],
 "metadata": {
  "kernelspec": {
   "display_name": "Python 3",
   "language": "python",
   "name": "python3"
  },
  "language_info": {
   "codemirror_mode": {
    "name": "ipython",
    "version": 3
   },
   "file_extension": ".py",
   "mimetype": "text/x-python",
   "name": "python",
   "nbconvert_exporter": "python",
   "pygments_lexer": "ipython3",
   "version": "3.6.9"
  }
 },
 "nbformat": 4,
 "nbformat_minor": 2
}
