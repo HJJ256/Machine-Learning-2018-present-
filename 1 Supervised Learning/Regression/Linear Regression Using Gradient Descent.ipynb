{
 "cells": [
  {
   "cell_type": "code",
   "execution_count": 1,
   "metadata": {},
   "outputs": [],
   "source": [
    "# This is a code to implement multivariate linear regression on boston dataset from scratch\n",
    "\n",
    "# ===================================Importing libraries====================================\n",
    "import numpy as np                              #for handling arrays and matrices\n",
    "import pandas as pd                             #for working with datasets and dataframes\n",
    "import matplotlib.pyplot as plt"
   ]
  },
  {
   "cell_type": "code",
   "execution_count": 5,
   "metadata": {},
   "outputs": [
    {
     "data": {
      "text/html": [
       "<div>\n",
       "<style scoped>\n",
       "    .dataframe tbody tr th:only-of-type {\n",
       "        vertical-align: middle;\n",
       "    }\n",
       "\n",
       "    .dataframe tbody tr th {\n",
       "        vertical-align: top;\n",
       "    }\n",
       "\n",
       "    .dataframe thead th {\n",
       "        text-align: right;\n",
       "    }\n",
       "</style>\n",
       "<table border=\"1\" class=\"dataframe\">\n",
       "  <thead>\n",
       "    <tr style=\"text-align: right;\">\n",
       "      <th></th>\n",
       "      <th>season</th>\n",
       "      <th>yr</th>\n",
       "      <th>mnth</th>\n",
       "      <th>hr</th>\n",
       "      <th>holiday</th>\n",
       "      <th>weekday</th>\n",
       "      <th>workingday</th>\n",
       "      <th>weathersit</th>\n",
       "      <th>temp</th>\n",
       "      <th>atemp</th>\n",
       "      <th>hum</th>\n",
       "      <th>windspeed</th>\n",
       "      <th>casual</th>\n",
       "      <th>registered</th>\n",
       "      <th>cnt</th>\n",
       "    </tr>\n",
       "  </thead>\n",
       "  <tbody>\n",
       "    <tr>\n",
       "      <th>0</th>\n",
       "      <td>1</td>\n",
       "      <td>0</td>\n",
       "      <td>1</td>\n",
       "      <td>0</td>\n",
       "      <td>0</td>\n",
       "      <td>6</td>\n",
       "      <td>0</td>\n",
       "      <td>1</td>\n",
       "      <td>0.24</td>\n",
       "      <td>0.2879</td>\n",
       "      <td>0.81</td>\n",
       "      <td>0.0</td>\n",
       "      <td>3</td>\n",
       "      <td>13</td>\n",
       "      <td>16</td>\n",
       "    </tr>\n",
       "    <tr>\n",
       "      <th>1</th>\n",
       "      <td>1</td>\n",
       "      <td>0</td>\n",
       "      <td>1</td>\n",
       "      <td>1</td>\n",
       "      <td>0</td>\n",
       "      <td>6</td>\n",
       "      <td>0</td>\n",
       "      <td>1</td>\n",
       "      <td>0.22</td>\n",
       "      <td>0.2727</td>\n",
       "      <td>0.80</td>\n",
       "      <td>0.0</td>\n",
       "      <td>8</td>\n",
       "      <td>32</td>\n",
       "      <td>40</td>\n",
       "    </tr>\n",
       "    <tr>\n",
       "      <th>2</th>\n",
       "      <td>1</td>\n",
       "      <td>0</td>\n",
       "      <td>1</td>\n",
       "      <td>2</td>\n",
       "      <td>0</td>\n",
       "      <td>6</td>\n",
       "      <td>0</td>\n",
       "      <td>1</td>\n",
       "      <td>0.22</td>\n",
       "      <td>0.2727</td>\n",
       "      <td>0.80</td>\n",
       "      <td>0.0</td>\n",
       "      <td>5</td>\n",
       "      <td>27</td>\n",
       "      <td>32</td>\n",
       "    </tr>\n",
       "    <tr>\n",
       "      <th>3</th>\n",
       "      <td>1</td>\n",
       "      <td>0</td>\n",
       "      <td>1</td>\n",
       "      <td>3</td>\n",
       "      <td>0</td>\n",
       "      <td>6</td>\n",
       "      <td>0</td>\n",
       "      <td>1</td>\n",
       "      <td>0.24</td>\n",
       "      <td>0.2879</td>\n",
       "      <td>0.75</td>\n",
       "      <td>0.0</td>\n",
       "      <td>3</td>\n",
       "      <td>10</td>\n",
       "      <td>13</td>\n",
       "    </tr>\n",
       "    <tr>\n",
       "      <th>4</th>\n",
       "      <td>1</td>\n",
       "      <td>0</td>\n",
       "      <td>1</td>\n",
       "      <td>4</td>\n",
       "      <td>0</td>\n",
       "      <td>6</td>\n",
       "      <td>0</td>\n",
       "      <td>1</td>\n",
       "      <td>0.24</td>\n",
       "      <td>0.2879</td>\n",
       "      <td>0.75</td>\n",
       "      <td>0.0</td>\n",
       "      <td>0</td>\n",
       "      <td>1</td>\n",
       "      <td>1</td>\n",
       "    </tr>\n",
       "  </tbody>\n",
       "</table>\n",
       "</div>"
      ],
      "text/plain": [
       "   season  yr  mnth  hr  holiday  weekday  workingday  weathersit  temp  \\\n",
       "0       1   0     1   0        0        6           0           1  0.24   \n",
       "1       1   0     1   1        0        6           0           1  0.22   \n",
       "2       1   0     1   2        0        6           0           1  0.22   \n",
       "3       1   0     1   3        0        6           0           1  0.24   \n",
       "4       1   0     1   4        0        6           0           1  0.24   \n",
       "\n",
       "    atemp   hum  windspeed  casual  registered  cnt  \n",
       "0  0.2879  0.81        0.0       3          13   16  \n",
       "1  0.2727  0.80        0.0       8          32   40  \n",
       "2  0.2727  0.80        0.0       5          27   32  \n",
       "3  0.2879  0.75        0.0       3          10   13  \n",
       "4  0.2879  0.75        0.0       0           1    1  "
      ]
     },
     "execution_count": 5,
     "metadata": {},
     "output_type": "execute_result"
    }
   ],
   "source": [
    "# loading dataset from sklearn\n",
    "df = pd.read_csv('bike sharing hour.csv')\n",
    "df.drop(['instant','dteday'],1,inplace=True)\n",
    "full_data = df.astype(float).values.tolist()\n",
    "df.head()"
   ]
  },
  {
   "cell_type": "code",
   "execution_count": 40,
   "metadata": {},
   "outputs": [],
   "source": [
    "# storing features in x and target variable in y\n",
    "x = np.matrix(full_data)[:,:-1]\n",
    "y = np.matrix(full_data)[:,-1]"
   ]
  },
  {
   "cell_type": "code",
   "execution_count": 116,
   "metadata": {
    "scrolled": true
   },
   "outputs": [
    {
     "name": "stdout",
     "output_type": "stream",
     "text": [
      "(1, 15)\n",
      "[[0. 0. 0. 0. 0. 0. 0. 0. 0. 0. 0. 0. 0. 0. 0.]]\n",
      "(17379, 15)\n"
     ]
    }
   ],
   "source": [
    "#=================== MULTI-VARIATE LINEAR REGRESSION ===================\n",
    "\n",
    "#================== INITIALISING HYPER-PARAMETERS ======================\n",
    "# Hyper-parameters for a multi-variate linear regression are:\n",
    "#  1. Theta (weights) which describe the line\n",
    "#  2. epochs- number of times we run our linear regression to minimise the loss\n",
    "#  3. alpha- the learning rate\n",
    "# initialising theta with zeros\n",
    "theta = np.zeros((1, x.shape[1] + 1)) #its dimensions are (1,14) because of the presence of a bias term (intercept)\n",
    "print(theta.shape)\n",
    "print(theta)\n",
    "\n",
    "#Both epoch and alpha can be changed and tested on different numbers\n",
    "# to minimise loss at a different rate(Advisable)\n",
    "epoch = 15000 #1 EPOCH means 1 PASS over the WHOLE TRAINING DATA\n",
    "alpha = 0.00001\n",
    "#INCREASE EPOCHS AND OBSERVE THE COST\n",
    "# creating bias vector x0\n",
    "x0 = np.ones((x.shape[0], 1))\n",
    "# forming input variable\n",
    "X = np.concatenate((x0, x), axis = 1)\n",
    "print(X.shape)"
   ]
  },
  {
   "cell_type": "code",
   "execution_count": 117,
   "metadata": {
    "scrolled": true
   },
   "outputs": [
    {
     "name": "stdout",
     "output_type": "stream",
     "text": [
      "34397.91475343806\n"
     ]
    }
   ],
   "source": [
    "# ================================ DEFINING COST FUNCTION ================================\n",
    "def MSE(X, y, theta):\n",
    "    h = X.dot(theta.T)\n",
    "    loss = np.array(h - y)\n",
    "    return np.sum(loss ** 2)/ (2 * len(X))\n",
    "\n",
    "# For testing the function\n",
    "cost = cost_function(X, y, theta)\n",
    "print(cost)"
   ]
  },
  {
   "cell_type": "code",
   "execution_count": 97,
   "metadata": {},
   "outputs": [],
   "source": [
    "import numpy as np\n",
    "import pandas as pd\n",
    "import random"
   ]
  },
  {
   "cell_type": "code",
   "execution_count": 98,
   "metadata": {},
   "outputs": [
    {
     "data": {
      "text/html": [
       "<div>\n",
       "<style scoped>\n",
       "    .dataframe tbody tr th:only-of-type {\n",
       "        vertical-align: middle;\n",
       "    }\n",
       "\n",
       "    .dataframe tbody tr th {\n",
       "        vertical-align: top;\n",
       "    }\n",
       "\n",
       "    .dataframe thead th {\n",
       "        text-align: right;\n",
       "    }\n",
       "</style>\n",
       "<table border=\"1\" class=\"dataframe\">\n",
       "  <thead>\n",
       "    <tr style=\"text-align: right;\">\n",
       "      <th></th>\n",
       "      <th>x1</th>\n",
       "      <th>x2</th>\n",
       "      <th>x3</th>\n",
       "      <th>x4</th>\n",
       "      <th>x5</th>\n",
       "      <th>x6</th>\n",
       "      <th>x7</th>\n",
       "      <th>x8</th>\n",
       "      <th>x9</th>\n",
       "      <th>label</th>\n",
       "    </tr>\n",
       "  </thead>\n",
       "  <tbody>\n",
       "    <tr>\n",
       "      <th>0</th>\n",
       "      <td>5</td>\n",
       "      <td>1</td>\n",
       "      <td>1</td>\n",
       "      <td>1</td>\n",
       "      <td>2</td>\n",
       "      <td>1.0</td>\n",
       "      <td>3</td>\n",
       "      <td>1</td>\n",
       "      <td>1</td>\n",
       "      <td>0</td>\n",
       "    </tr>\n",
       "    <tr>\n",
       "      <th>1</th>\n",
       "      <td>5</td>\n",
       "      <td>4</td>\n",
       "      <td>4</td>\n",
       "      <td>5</td>\n",
       "      <td>7</td>\n",
       "      <td>10.0</td>\n",
       "      <td>3</td>\n",
       "      <td>2</td>\n",
       "      <td>1</td>\n",
       "      <td>0</td>\n",
       "    </tr>\n",
       "    <tr>\n",
       "      <th>2</th>\n",
       "      <td>3</td>\n",
       "      <td>1</td>\n",
       "      <td>1</td>\n",
       "      <td>1</td>\n",
       "      <td>2</td>\n",
       "      <td>2.0</td>\n",
       "      <td>3</td>\n",
       "      <td>1</td>\n",
       "      <td>1</td>\n",
       "      <td>0</td>\n",
       "    </tr>\n",
       "    <tr>\n",
       "      <th>3</th>\n",
       "      <td>6</td>\n",
       "      <td>8</td>\n",
       "      <td>8</td>\n",
       "      <td>1</td>\n",
       "      <td>3</td>\n",
       "      <td>4.0</td>\n",
       "      <td>3</td>\n",
       "      <td>7</td>\n",
       "      <td>1</td>\n",
       "      <td>0</td>\n",
       "    </tr>\n",
       "    <tr>\n",
       "      <th>4</th>\n",
       "      <td>4</td>\n",
       "      <td>1</td>\n",
       "      <td>1</td>\n",
       "      <td>3</td>\n",
       "      <td>2</td>\n",
       "      <td>1.0</td>\n",
       "      <td>3</td>\n",
       "      <td>1</td>\n",
       "      <td>1</td>\n",
       "      <td>0</td>\n",
       "    </tr>\n",
       "  </tbody>\n",
       "</table>\n",
       "</div>"
      ],
      "text/plain": [
       "   x1  x2  x3  x4  x5    x6  x7  x8  x9  label\n",
       "0   5   1   1   1   2   1.0   3   1   1      0\n",
       "1   5   4   4   5   7  10.0   3   2   1      0\n",
       "2   3   1   1   1   2   2.0   3   1   1      0\n",
       "3   6   8   8   1   3   4.0   3   7   1      0\n",
       "4   4   1   1   3   2   1.0   3   1   1      0"
      ]
     },
     "execution_count": 98,
     "metadata": {},
     "output_type": "execute_result"
    }
   ],
   "source": [
    "df = pd.read_csv('Breast-Cancer.csv',na_values=['?'])\n",
    "df.drop(['id'],axis = 1,inplace = True)\n",
    "df['label'].replace(2,0,inplace = True)\n",
    "df['label'].replace(4,1,inplace = True)\n",
    "df.dropna(inplace = True)\n",
    "full_data = df.astype(float).values.tolist()\n",
    "df.head()"
   ]
  },
  {
   "cell_type": "code",
   "execution_count": 39,
   "metadata": {
    "scrolled": true
   },
   "outputs": [
    {
     "data": {
      "text/plain": [
       "[5.0, 1.0, 1.0, 1.0, 2.0, 1.0, 3.0, 1.0, 1.0, 0.0]"
      ]
     },
     "execution_count": 39,
     "metadata": {},
     "output_type": "execute_result"
    }
   ],
   "source": [
    "full_data[0]"
   ]
  },
  {
   "cell_type": "code",
   "execution_count": 40,
   "metadata": {},
   "outputs": [],
   "source": [
    "random.shuffle(full_data)"
   ]
  },
  {
   "cell_type": "code",
   "execution_count": 41,
   "metadata": {},
   "outputs": [
    {
     "data": {
      "text/plain": [
       "[4.0, 1.0, 2.0, 1.0, 2.0, 1.0, 2.0, 1.0, 1.0, 0.0]"
      ]
     },
     "execution_count": 41,
     "metadata": {},
     "output_type": "execute_result"
    }
   ],
   "source": [
    "full_data[0]"
   ]
  },
  {
   "cell_type": "code",
   "execution_count": 104,
   "metadata": {},
   "outputs": [
    {
     "data": {
      "text/plain": [
       "(683, 10)"
      ]
     },
     "execution_count": 104,
     "metadata": {},
     "output_type": "execute_result"
    }
   ],
   "source": [
    "full_data.shape"
   ]
  },
  {
   "cell_type": "code",
   "execution_count": 103,
   "metadata": {},
   "outputs": [
    {
     "name": "stdout",
     "output_type": "stream",
     "text": [
      "(683, 11)\n",
      "(1, 10)\n",
      "[[0. 0. 0. 0. 0. 0. 0. 0. 0. 0.]]\n"
     ]
    }
   ],
   "source": [
    "random.shuffle(full_data)\n",
    "\n",
    "full_data = np.matrix(full_data)\n",
    "#Both epoch and alpha can be changed and tested on different numbers\n",
    "# to minimise loss at a different rate(Advisable)\n",
    "epoch = 150000 #1 EPOCH means 1 PASS over the WHOLE TRAINING DATA\n",
    "alpha = 0.00001\n",
    "#INCREASE EPOCHS AND OBSERVE THE COST\n",
    "# creating bias vector x0\n",
    "x0 = np.ones((full_data.shape[0], 1))\n",
    "# forming input variable\n",
    "data = np.concatenate((x0, full_data), axis = 1)\n",
    "print(data.shape)\n",
    "theta = np.zeros((1, data.shape[1]-1)) #its dimensions are (1,14) because of the presence of a bias term (intercept)\n",
    "print(theta.shape)\n",
    "print(theta)\n"
   ]
  },
  {
   "cell_type": "code",
   "execution_count": 111,
   "metadata": {},
   "outputs": [],
   "source": [
    "test_size = 0.2\n",
    "X_train = data[:-int(test_size*len(full_data)),:-1]\n",
    "Y_train = data[:-int(test_size*len(full_data)),-1]\n",
    "X_test = data[-int(test_size*len(full_data)):,:-1]\n",
    "Y_test = data[-int(test_size*len(full_data)):,-1]"
   ]
  },
  {
   "cell_type": "code",
   "execution_count": 112,
   "metadata": {},
   "outputs": [
    {
     "name": "stdout",
     "output_type": "stream",
     "text": [
      "(547, 10)\n",
      "(547, 1)\n",
      "(136, 10)\n",
      "(136, 1)\n"
     ]
    }
   ],
   "source": [
    "print(X_train.shape)\n",
    "print(Y_train.shape)\n",
    "print(X_test.shape)\n",
    "print(Y_test.shape)"
   ]
  },
  {
   "cell_type": "code",
   "execution_count": 113,
   "metadata": {},
   "outputs": [],
   "source": [
    "def sigmoid(Z):\n",
    "    return 1/(1+np.exp(-Z)) #e`\n",
    "\n",
    "def BCE(X,y,theta): #BCE\n",
    "    pred = sigmoid(np.dot(X,theta.T)) #y hat\n",
    "    mcost = -np.array(y)*np.array(np.log(pred)) - np.array((1-y))*np.array(np.log(1-pred))\n",
    "    #print(mcost)\n",
    "    return mcost.mean()"
   ]
  },
  {
   "cell_type": "code",
   "execution_count": 114,
   "metadata": {},
   "outputs": [
    {
     "name": "stdout",
     "output_type": "stream",
     "text": [
      "Cost before:  0.693146947307765\n",
      "Cost after:  0.6931467140569002\n"
     ]
    }
   ],
   "source": [
    "# ============================ DEFINING GRADIENT DESCENT =========================\n",
    "def grad_descent(X, y, theta, alpha):\n",
    "    h = sigmoid(X.dot(theta.T))\n",
    "    loss = h - y #YHAT-Y\n",
    "    dj = (loss.T).dot(X) #(YHAT-Y) TRANSPOSE . X\n",
    "    theta = theta - (alpha/len(X)) * dj #THETA-(ALPHA/M)((YHAT-Y)TRANSPOSE.X)\n",
    "    return theta\n",
    "\n",
    "# For testing the function \n",
    "cost = BCE(X_train, Y_train, theta)\n",
    "print(\"Cost before: \", cost)\n",
    "\n",
    "theta = grad_descent(X_train, Y_train, theta, 0.0000001)\n",
    "\n",
    "cost = BCE(X_train, Y_train, theta)\n",
    "print(\"Cost after: \", cost)"
   ]
  },
  {
   "cell_type": "code",
   "execution_count": 115,
   "metadata": {},
   "outputs": [
    {
     "data": {
      "text/plain": [
       "matrix([[-3.23583497e-08,  5.15537408e-08,  1.34369121e-07,\n",
       "          1.26142429e-07,  9.85373315e-08,  3.91223422e-08,\n",
       "          1.62157035e-07,  6.67274488e-08,  1.15356339e-07,\n",
       "          1.82814653e-08]])"
      ]
     },
     "execution_count": 115,
     "metadata": {},
     "output_type": "execute_result"
    }
   ],
   "source": [
    "theta"
   ]
  },
  {
   "cell_type": "code",
   "execution_count": 120,
   "metadata": {
    "scrolled": true
   },
   "outputs": [
    {
     "name": "stdout",
     "output_type": "stream",
     "text": [
      "Cost function:  0.4312940271730657\n",
      "Cost function:  0.4307023218078664\n",
      "Cost function:  0.4301149327293856\n",
      "Cost function:  0.42953180436185695\n",
      "Cost function:  0.4289528821025723\n",
      "Cost function:  0.4283781123007891\n",
      "Cost function:  0.4278074422371756\n",
      "Cost function:  0.4272408201037754\n",
      "Cost function:  0.4266781949844822\n",
      "Cost function:  0.4261195168360029\n",
      "Cost function:  0.4255647364693018\n",
      "Cost function:  0.4250138055315065\n",
      "Cost function:  0.42446667648826714\n",
      "Cost function:  0.4239233026065522\n",
      "Cost function:  0.42338363793787115\n",
      "Cost function:  0.42284763730191116\n",
      "Cost function:  0.42231525627057576\n",
      "Cost function:  0.4217864511524142\n",
      "Cost function:  0.42126117897743176\n",
      "Cost function:  0.42073939748226935\n",
      "Cost function:  0.420221065095742\n",
      "Cost function:  0.4197061409247273\n",
      "Cost function:  0.4191945847403931\n",
      "Cost function:  0.41868635696475587\n",
      "Cost function:  0.418181418657561\n",
      "Cost function:  0.4176797315034741\n",
      "Cost function:  0.41718125779957804\n",
      "Cost function:  0.41668596044316514\n",
      "Cost function:  0.41619380291981745\n",
      "Cost function:  0.41570474929176665\n",
      "Cost function:  0.41521876418652676\n",
      "Cost function:  0.41473581278579225\n",
      "Cost function:  0.41425586081459553\n",
      "Cost function:  0.4137788745307118\n",
      "Cost function:  0.41330482071431357\n",
      "Cost function:  0.4128336666578599\n",
      "Cost function:  0.41236538015621926\n",
      "Cost function:  0.4118999294970176\n",
      "Cost function:  0.4114372834512054\n",
      "Cost function:  0.41097741126384135\n",
      "Cost function:  0.4105202826450819\n",
      "Cost function:  0.4100658677613753\n",
      "Cost function:  0.4096141372268541\n",
      "Cost function:  0.409165062094919\n",
      "Cost function:  0.40871861385001196\n",
      "Cost function:  0.40827476439957117\n",
      "Cost function:  0.40783348606616543\n",
      "Cost function:  0.40739475157980193\n",
      "Cost function:  0.40695853407040294\n",
      "Cost function:  0.4065248070604483\n",
      "Cost function:  0.40609354445777956\n",
      "Cost function:  0.4056647205485583\n",
      "Cost function:  0.4052383099903816\n",
      "Cost function:  0.4048142878055425\n",
      "Cost function:  0.40439262937443904\n",
      "Cost function:  0.4039733104291238\n",
      "Cost function:  0.4035563070469912\n",
      "Cost function:  0.4031415956446008\n",
      "Cost function:  0.40272915297163253\n",
      "Cost function:  0.40231895610496876\n",
      "Cost function:  0.4019109824429025\n",
      "Cost function:  0.4015052096994683\n",
      "Cost function:  0.401101615898891\n",
      "Cost function:  0.4007001793701526\n",
      "Cost function:  0.4003008787416709\n",
      "Cost function:  0.3999036929360903\n",
      "Cost function:  0.39950860116517944\n",
      "Cost function:  0.39911558292483584\n",
      "Cost function:  0.39872461799019265\n",
      "Cost function:  0.3983356864108255\n",
      "Cost function:  0.3979487685060588\n",
      "Cost function:  0.3975638448603676\n",
      "Cost function:  0.3971808963188724\n",
      "Cost function:  0.3967999039829249\n",
      "Cost function:  0.3964208492057859\n",
      "Cost function:  0.39604371358838636\n",
      "Cost function:  0.39566847897517704\n",
      "Cost function:  0.3952951274500593\n",
      "Cost function:  0.394923641332398\n",
      "Cost function:  0.3945540031731133\n",
      "Cost function:  0.39418619575085057\n",
      "Cost function:  0.39382020206822577\n",
      "Cost function:  0.3934560053481451\n",
      "Cost function:  0.39309358903019664\n",
      "Cost function:  0.39273293676711324\n",
      "Cost function:  0.39237403242130386\n",
      "Cost function:  0.3920168600614529\n",
      "Cost function:  0.3916614039591852\n",
      "Cost function:  0.3913076485857973\n",
      "Cost function:  0.3909555786090483\n",
      "Cost function:  0.3906051788900163\n",
      "Cost function:  0.39025643448001196\n",
      "Cost function:  0.38990933061755406\n",
      "Cost function:  0.38956385272539973\n",
      "Cost function:  0.3892199864076333\n",
      "Cost function:  0.38887771744680905\n",
      "Cost function:  0.3885370318011491\n",
      "Cost function:  0.3881979156017931\n",
      "Cost function:  0.38786035515009915\n",
      "Cost function:  0.3875243369149971\n",
      "Cost function:  0.38718984753038926\n",
      "Cost function:  0.38685687379260025\n",
      "Cost function:  0.38652540265787527\n",
      "Cost function:  0.3861954212399221\n",
      "Cost function:  0.3858669168075006\n",
      "Cost function:  0.3855398767820562\n",
      "Cost function:  0.3852142887353957\n",
      "Cost function:  0.38489014038740593\n",
      "Cost function:  0.3845674196038154\n",
      "Cost function:  0.3842461143939945\n",
      "Cost function:  0.383926212908797\n",
      "Cost function:  0.3836077034384401\n",
      "Cost function:  0.38329057441042147\n",
      "Cost function:  0.38297481438747677\n",
      "Cost function:  0.3826604120655701\n",
      "Cost function:  0.3823473562719229\n",
      "Cost function:  0.38203563596307655\n",
      "Cost function:  0.3817252402229903\n",
      "Cost function:  0.38141615826117187\n",
      "Cost function:  0.3811083794108414\n",
      "Cost function:  0.3808018931271286\n",
      "Cost function:  0.38049668898530037\n",
      "Cost function:  0.3801927566790196\n",
      "Cost function:  0.3798900860186346\n",
      "Cost function:  0.37958866692949844\n",
      "Cost function:  0.3792884894503172\n",
      "Cost function:  0.3789895437315265\n",
      "Cost function:  0.37869182003369656\n",
      "Cost function:  0.3783953087259644\n",
      "Cost function:  0.37810000028449287\n",
      "Cost function:  0.3778058852909561\n",
      "Cost function:  0.37751295443105093\n",
      "Cost function:  0.3772211984930334\n",
      "Cost function:  0.37693060836628006\n",
      "Cost function:  0.37664117503987343\n",
      "Cost function:  0.37635288960121266\n",
      "Cost function:  0.376065743234645\n",
      "Cost function:  0.37577972722012243\n",
      "Cost function:  0.37549483293187996\n",
      "Cost function:  0.37521105183713516\n",
      "Cost function:  0.3749283754948116\n",
      "Cost function:  0.3746467955542808\n",
      "Cost function:  0.37436630375412705\n",
      "Cost function:  0.37408689192093025\n",
      "Cost function:  0.37380855196807117\n",
      "Cost function:  0.37353127589455587\n",
      "Cost function:  0.3732550557838576\n",
      "Cost function:  0.3729798838027799\n",
      "Cost function:  0.37270575220033614\n",
      "Cost function:  0.3724326533066489\n"
     ]
    }
   ],
   "source": [
    "# ========================== DEFINING OUR LOGISTIC REGRESSION =========================\n",
    "def logistic_reg(epoch, X, y, theta, alpha):\n",
    "    for ep in range(epoch):\n",
    "        \n",
    "        #calculate new theta\n",
    "        theta = grad_descent(X, y, theta, alpha)\n",
    "        \n",
    "        #compute new loss\n",
    "        if (ep+1)%1000 == 0:\n",
    "            loss = BCE(X, y, theta)\n",
    "            print(\"Cost function: \", loss)\n",
    "        \n",
    "    return theta\n",
    "\n",
    "theta = logistic_reg(epoch, X_train, Y_train, theta, alpha)"
   ]
  },
  {
   "cell_type": "code",
   "execution_count": 123,
   "metadata": {
    "scrolled": true
   },
   "outputs": [
    {
     "data": {
      "text/plain": [
       "matrix([[-0.52313869, -0.22608023,  0.31082572,  0.20318923,  0.08119571,\n",
       "         -0.2981652 ,  0.29129199, -0.17314068,  0.18919944, -0.10163355]])"
      ]
     },
     "execution_count": 123,
     "metadata": {},
     "output_type": "execute_result"
    }
   ],
   "source": [
    "theta"
   ]
  },
  {
   "cell_type": "code",
   "execution_count": 124,
   "metadata": {},
   "outputs": [
    {
     "data": {
      "text/plain": [
       "0.3724326533066489"
      ]
     },
     "execution_count": 124,
     "metadata": {},
     "output_type": "execute_result"
    }
   ],
   "source": [
    "BCE(X_train,Y_train,theta)"
   ]
  },
  {
   "cell_type": "code",
   "execution_count": 125,
   "metadata": {},
   "outputs": [
    {
     "data": {
      "text/plain": [
       "0.2942159365912295"
      ]
     },
     "execution_count": 125,
     "metadata": {},
     "output_type": "execute_result"
    }
   ],
   "source": [
    "BCE(X_test,Y_test,theta)"
   ]
  },
  {
   "cell_type": "code",
   "execution_count": 121,
   "metadata": {},
   "outputs": [],
   "source": [
    "# ========================= TESTING THE DATA ========================\n",
    "def predict(X, theta):\n",
    "    return X.dot(theta.T)\n",
    "\n",
    "y_pred =  predict(X, theta)"
   ]
  },
  {
   "cell_type": "code",
   "execution_count": 122,
   "metadata": {},
   "outputs": [],
   "source": [
    "# ====================== Find error in the predicted values=============\n",
    "def mean_squared_error(h, y):\n",
    "    m = y.shape[0]\n",
    "    loss = np.array(h-y)\n",
    "    return np.sum((loss ** 2 ) / m)\n",
    "\n",
    "# for testing the function\n",
    "# mean_squared_error(y_pred, y_test)"
   ]
  },
  {
   "cell_type": "code",
   "execution_count": 123,
   "metadata": {
    "collapsed": true
   },
   "outputs": [
    {
     "data": {
      "image/png": "[encoded data removed]",
      "text/plain": [
       "<Figure size 432x288 with 1 Axes>"
      ]
     },
     "metadata": {
      "needs_background": "light"
     },
     "output_type": "display_data"
    },
    {
     "name": "stdout",
     "output_type": "stream",
     "text": [
      "5.801216988938887e-06\n",
      "2.9006084944694434e-06\n"
     ]
    }
   ],
   "source": [
    "# ================= Plotting hypothesis value vs actual value for train set=========\n",
    "h = X.dot(theta.T)\n",
    "plt.plot(h, y, 'b.')\n",
    "plt.ylabel('Actual value')\n",
    "plt.xlabel('Predicted value')\n",
    "plt.show()\n",
    "\n",
    "print(mean_squared_error(h, y))\n",
    "print(cost_function(X, y, theta))"
   ]
  },
  {
   "cell_type": "code",
   "execution_count": null,
   "metadata": {},
   "outputs": [],
   "source": []
  }
 ],
 "metadata": {
  "kernelspec": {
   "display_name": "Python 3",
   "language": "python",
   "name": "python3"
  },
  "language_info": {
   "codemirror_mode": {
    "name": "ipython",
    "version": 3
   },
   "file_extension": ".py",
   "mimetype": "text/x-python",
   "name": "python",
   "nbconvert_exporter": "python",
   "pygments_lexer": "ipython3",
   "version": "3.5.6"
  }
 },
 "nbformat": 4,
 "nbformat_minor": 2
}
