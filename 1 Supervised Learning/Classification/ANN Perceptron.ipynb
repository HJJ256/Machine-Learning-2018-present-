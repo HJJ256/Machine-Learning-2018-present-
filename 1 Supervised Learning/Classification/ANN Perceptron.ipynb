{
 "cells": [
  {
   "cell_type": "code",
   "execution_count": 37,
   "metadata": {
    "scrolled": true
   },
   "outputs": [
    {
     "name": "stdout",
     "output_type": "stream",
     "text": [
      "[0 0] 0\n",
      "[0 1] 0\n",
      "[1 0] 0\n",
      "[1 1] 1\n"
     ]
    }
   ],
   "source": [
    "import numpy as np\n",
    "class Perceptron:\n",
    "    \n",
    "    def __init__(self, input_length, weights=None):\n",
    "        if weights is None:\n",
    "            self.weights = np.ones(input_length) * 0.5\n",
    "        else:\n",
    "            self.weights = weights\n",
    "        \n",
    "    @staticmethod\n",
    "    def unit_step_function(x):\n",
    "        if x > 0.5:\n",
    "            return 1\n",
    "        return 0\n",
    "    \n",
    "    @staticmethod\n",
    "    def sigmoid(z):\n",
    "        return 1/(1+np.exp(-z))\n",
    "        \n",
    "    def __call__(self, in_data):\n",
    "        weighted_input = self.weights * in_data\n",
    "        weighted_sum = weighted_input.sum()\n",
    "        return Perceptron.sigmoid(weighted_sum)\n",
    "    \n",
    "p = Perceptron(3, np.array([20, 20,-30]))\n",
    "for x in [np.array([0, 0]), np.array([0, 1]), \n",
    "          np.array([1, 0]), np.array([1, 1])]:\n",
    "    y = int(round(p(np.array([x[0],x[1],1]))))\n",
    "    print(x, y)"
   ]
  },
  {
   "cell_type": "code",
   "execution_count": null,
   "metadata": {},
   "outputs": [],
   "source": [
    "p = Perceptron(3, np.array([20, 20,-10]))\n",
    "for x in [np.array([0, 0]), np.array([0, 1]), \n",
    "          np.array([1, 0]), np.array([1, 1])]:\n",
    "    y = int(round(p(np.array([x[0],x[1],1]))))\n",
    "    print(x, y)"
   ]
  },
  {
   "cell_type": "code",
   "execution_count": 39,
   "metadata": {},
   "outputs": [
    {
     "name": "stdout",
     "output_type": "stream",
     "text": [
      "[0] 1\n",
      "[1] 0\n"
     ]
    }
   ],
   "source": [
    "p = Perceptron(2, np.array([-20,10]))\n",
    "for x in [np.array([0]), \n",
    "          np.array([1])]:\n",
    "    y = int(round(p(np.array([x[0],1]))))\n",
    "    print(x, y)"
   ]
  },
  {
   "cell_type": "code",
   "execution_count": 40,
   "metadata": {},
   "outputs": [
    {
     "name": "stdout",
     "output_type": "stream",
     "text": [
      "[0 0] 0\n",
      "[0 1] 1\n",
      "[1 0] 1\n",
      "[1 1] 0\n"
     ]
    }
   ],
   "source": [
    "not1 = Perceptron(2, np.array([-20,10]))\n",
    "and1 = Perceptron(3, np.array([20, 20,-30]))\n",
    "or1 = Perceptron(3, np.array([20, 20,-10]))\n",
    "abar,bbar,abbar,abarb,xor = [],[],[],[],[]\n",
    "data = [np.array([0, 0]), np.array([0, 1]), \n",
    "          np.array([1, 0]), np.array([1, 1])]\n",
    "\n",
    "for x in data:\n",
    "    abar =(int(round(not1(np.array([x[0],1])))))\n",
    "    bbar =(int(round(not1(np.array([x[1],1])))))\n",
    "    abbar=(int(round(and1(np.array([x[0],bbar,1])))))\n",
    "    abarb=(int(round(and1(np.array([x[1],abar,1])))))\n",
    "    xor.append(int(round(or1(np.array([abbar,abarb,1])))))\n",
    "\n",
    "for i in range(4):\n",
    "    print(data[i],xor[i])\n",
    "    \n"
   ]
  },
  {
   "cell_type": "code",
   "execution_count": 78,
   "metadata": {},
   "outputs": [
    {
     "name": "stdout",
     "output_type": "stream",
     "text": [
      "[0, 0] 0\n",
      "[0, 1] 0\n",
      "[1, 0] 0\n",
      "[1, 1] 1\n"
     ]
    }
   ],
   "source": [
    "in_data = [[1,0,0],[1,0,1],[1,1,0],[1,1,1]] #X0,X1,X2\n",
    "weights = np.array([-30,20,20]) #BIAS, W1, W2\n",
    "\n",
    "for i in in_data:\n",
    "    weighted_input = weights * i\n",
    "    weighted_sum = weighted_input.sum()\n",
    "    output = unit_step_function(weighted_sum)\n",
    "    print(i[1:],output)"
   ]
  },
  {
   "cell_type": "code",
   "execution_count": 44,
   "metadata": {},
   "outputs": [
    {
     "name": "stdout",
     "output_type": "stream",
     "text": [
      "[0, 0] 0\n",
      "[0, 1] 1\n",
      "[1, 0] 1\n",
      "[1, 1] 1\n"
     ]
    }
   ],
   "source": [
    "in_data = [[1,0,0],[1,0,1],[1,1,0],[1,1,1]]\n",
    "weights = np.array([-10,20,20])\n",
    "\n",
    "for i in in_data:\n",
    "    weighted_input = weights * i\n",
    "    weighted_sum = weighted_input.sum()\n",
    "    output = unit_step_function(weighted_sum)\n",
    "    print(i[1:],output)"
   ]
  },
  {
   "cell_type": "code",
   "execution_count": null,
   "metadata": {},
   "outputs": [],
   "source": []
  }
 ],
 "metadata": {
  "kernelspec": {
   "display_name": "Python 3",
   "language": "python",
   "name": "python3"
  },
  "language_info": {
   "codemirror_mode": {
    "name": "ipython",
    "version": 3
   },
   "file_extension": ".py",
   "mimetype": "text/x-python",
   "name": "python",
   "nbconvert_exporter": "python",
   "pygments_lexer": "ipython3",
   "version": "3.5.6"
  }
 },
 "nbformat": 4,
 "nbformat_minor": 2
}
