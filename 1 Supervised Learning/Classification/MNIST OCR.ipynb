{
 "cells": [
  {
   "cell_type": "code",
   "execution_count": 84,
   "metadata": {},
   "outputs": [],
   "source": [
    "from keras.datasets import mnist\n",
    "from keras.models import Sequential\n",
    "from keras.layers import Dense\n",
    "from keras.utils import np_utils"
   ]
  },
  {
   "cell_type": "code",
   "execution_count": 56,
   "metadata": {},
   "outputs": [],
   "source": [
    "train,test = mnist.load_data() #Loading handwritten digits dataset with 28x28 images (labelled data)"
   ]
  },
  {
   "cell_type": "code",
   "execution_count": 88,
   "metadata": {},
   "outputs": [],
   "source": [
    "X_train, Y_train = train #Splitting data into images and corresponding labels"
   ]
  },
  {
   "cell_type": "code",
   "execution_count": 89,
   "metadata": {},
   "outputs": [],
   "source": [
    "X_test, Y_test = test"
   ]
  },
  {
   "cell_type": "code",
   "execution_count": 90,
   "metadata": {
    "scrolled": true
   },
   "outputs": [
    {
     "data": {
      "text/plain": [
       "(60000, 28, 28)"
      ]
     },
     "execution_count": 90,
     "metadata": {},
     "output_type": "execute_result"
    }
   ],
   "source": [
    "X_train.shape"
   ]
  },
  {
   "cell_type": "code",
   "execution_count": 91,
   "metadata": {},
   "outputs": [
    {
     "data": {
      "text/plain": [
       "(10000, 28, 28)"
      ]
     },
     "execution_count": 91,
     "metadata": {},
     "output_type": "execute_result"
    }
   ],
   "source": [
    "X_test.shape"
   ]
  },
  {
   "cell_type": "code",
   "execution_count": 92,
   "metadata": {
    "scrolled": true
   },
   "outputs": [
    {
     "data": {
      "text/plain": [
       "(60000,)"
      ]
     },
     "execution_count": 92,
     "metadata": {},
     "output_type": "execute_result"
    }
   ],
   "source": [
    "Y_train.shape"
   ]
  },
  {
   "cell_type": "code",
   "execution_count": 93,
   "metadata": {
    "scrolled": true
   },
   "outputs": [
    {
     "data": {
      "text/plain": [
       "(10000,)"
      ]
     },
     "execution_count": 93,
     "metadata": {},
     "output_type": "execute_result"
    }
   ],
   "source": [
    "Y_test.shape "
   ]
  },
  {
   "cell_type": "code",
   "execution_count": 94,
   "metadata": {
    "scrolled": true
   },
   "outputs": [
    {
     "data": {
      "image/png": "[encoded data removed]",
      "text/plain": [
       "<Figure size 432x288 with 2 Axes>"
      ]
     },
     "metadata": {
      "needs_background": "light"
     },
     "output_type": "display_data"
    }
   ],
   "source": [
    "import matplotlib.pyplot as plt #Displaying the image using plotting library\n",
    "plt.imshow(X_test[0],cmap='gray')\n",
    "plt.colorbar()\n",
    "plt.show()"
   ]
  },
  {
   "cell_type": "code",
   "execution_count": 95,
   "metadata": {},
   "outputs": [],
   "source": [
    "#Normalizing data to bring in range 0 to 1 from 0 to 255\n",
    "X_train = X_train/255\n",
    "X_test = X_test/255"
   ]
  },
  {
   "cell_type": "code",
   "execution_count": 96,
   "metadata": {},
   "outputs": [
    {
     "data": {
      "text/plain": [
       "(60000, 28, 28)"
      ]
     },
     "execution_count": 96,
     "metadata": {},
     "output_type": "execute_result"
    }
   ],
   "source": [
    "X_train.shape"
   ]
  },
  {
   "cell_type": "code",
   "execution_count": 97,
   "metadata": {},
   "outputs": [],
   "source": [
    "X_train = X_train.reshape(-1,X_train.shape[1]*X_train.shape[2])\n",
    "X_test =  X_test.reshape(-1,X_test.shape[1]*X_test.shape[2])"
   ]
  },
  {
   "cell_type": "code",
   "execution_count": 98,
   "metadata": {
    "scrolled": true
   },
   "outputs": [
    {
     "data": {
      "text/plain": [
       "(60000, 784)"
      ]
     },
     "execution_count": 98,
     "metadata": {},
     "output_type": "execute_result"
    }
   ],
   "source": [
    "X_train.shape #Flattened the images from 28x28 to 784 to feed to neural network neurons"
   ]
  },
  {
   "cell_type": "code",
   "execution_count": 99,
   "metadata": {
    "scrolled": true
   },
   "outputs": [
    {
     "name": "stdout",
     "output_type": "stream",
     "text": [
      "7\n"
     ]
    }
   ],
   "source": [
    "print(Y_test[0])"
   ]
  },
  {
   "cell_type": "code",
   "execution_count": 100,
   "metadata": {},
   "outputs": [],
   "source": [
    "Y_train = np_utils.to_categorical(Y_train)\n",
    "Y_test = np_utils.to_categorical(Y_test)"
   ]
  },
  {
   "cell_type": "code",
   "execution_count": 101,
   "metadata": {
    "scrolled": true
   },
   "outputs": [
    {
     "name": "stdout",
     "output_type": "stream",
     "text": [
      "[0. 0. 0. 0. 0. 0. 0. 1. 0. 0.]\n"
     ]
    }
   ],
   "source": [
    "print(Y_test[0])"
   ]
  },
  {
   "cell_type": "code",
   "execution_count": 102,
   "metadata": {},
   "outputs": [],
   "source": [
    "#Adding layers and activations\n",
    "model = Sequential() #Making a feed-forward artificial neural network with sequential layers\n",
    "model.add(Dense(128,activation='relu',input_shape=(784,)))\n",
    "model.add(Dense(64,activation='relu'))\n",
    "model.add(Dense(16,activation='relu'))\n",
    "model.add(Dense(10,activation='softmax'))"
   ]
  },
  {
   "cell_type": "code",
   "execution_count": 103,
   "metadata": {},
   "outputs": [
    {
     "name": "stdout",
     "output_type": "stream",
     "text": [
      "_________________________________________________________________\n",
      "Layer (type)                 Output Shape              Param #   \n",
      "=================================================================\n",
      "dense_9 (Dense)              (None, 128)               100480    \n",
      "_________________________________________________________________\n",
      "dense_10 (Dense)             (None, 64)                8256      \n",
      "_________________________________________________________________\n",
      "dense_11 (Dense)             (None, 16)                1040      \n",
      "_________________________________________________________________\n",
      "dense_12 (Dense)             (None, 10)                170       \n",
      "=================================================================\n",
      "Total params: 109,946\n",
      "Trainable params: 109,946\n",
      "Non-trainable params: 0\n",
      "_________________________________________________________________\n"
     ]
    }
   ],
   "source": [
    "model.summary()"
   ]
  },
  {
   "cell_type": "code",
   "execution_count": 105,
   "metadata": {},
   "outputs": [],
   "source": [
    "model.compile(loss='categorical_crossentropy',\n",
    "              optimizer='adam',metrics=['accuracy'])\n",
    "                                        #'categorical_crossentropy'])\n",
    "#Categorical crossentropy is used to define error for multiple classes (0 to 9 in this case)\n",
    "#Adam optimizer uses a combination of RMSProp and Gradient Descent Optimization technique\n",
    "#We are judging the model on its accuracy"
   ]
  },
  {
   "cell_type": "code",
   "execution_count": 106,
   "metadata": {
    "scrolled": false
   },
   "outputs": [
    {
     "name": "stdout",
     "output_type": "stream",
     "text": [
      "Train on 48000 samples, validate on 12000 samples\n",
      "Epoch 1/40\n",
      "48000/48000 [==============================] - 2s 41us/step - loss: 1.3252 - acc: 0.5253 - val_loss: 0.6177 - val_acc: 0.8422\n",
      "Epoch 2/40\n",
      "48000/48000 [==============================] - 1s 24us/step - loss: 0.4282 - acc: 0.8889 - val_loss: 0.2813 - val_acc: 0.9238\n",
      "Epoch 3/40\n",
      "48000/48000 [==============================] - 1s 23us/step - loss: 0.2533 - acc: 0.9302 - val_loss: 0.2085 - val_acc: 0.9422\n",
      "Epoch 4/40\n",
      "48000/48000 [==============================] - 1s 20us/step - loss: 0.1912 - acc: 0.9463 - val_loss: 0.1742 - val_acc: 0.9513\n",
      "Epoch 5/40\n",
      "48000/48000 [==============================] - 1s 20us/step - loss: 0.1542 - acc: 0.9563 - val_loss: 0.1501 - val_acc: 0.9577\n",
      "Epoch 6/40\n",
      "48000/48000 [==============================] - 1s 25us/step - loss: 0.1288 - acc: 0.9625 - val_loss: 0.1389 - val_acc: 0.9603\n",
      "Epoch 7/40\n",
      "48000/48000 [==============================] - 1s 24us/step - loss: 0.1130 - acc: 0.9674 - val_loss: 0.1280 - val_acc: 0.9635\n",
      "Epoch 8/40\n",
      "48000/48000 [==============================] - 1s 23us/step - loss: 0.0980 - acc: 0.9706 - val_loss: 0.1304 - val_acc: 0.9628\n",
      "Epoch 9/40\n",
      "48000/48000 [==============================] - 1s 22us/step - loss: 0.0869 - acc: 0.9756 - val_loss: 0.1177 - val_acc: 0.9644\n",
      "Epoch 10/40\n",
      "48000/48000 [==============================] - 1s 25us/step - loss: 0.0744 - acc: 0.9785 - val_loss: 0.1103 - val_acc: 0.9681\n",
      "Epoch 11/40\n",
      "48000/48000 [==============================] - 1s 26us/step - loss: 0.0659 - acc: 0.9813 - val_loss: 0.1046 - val_acc: 0.9686\n",
      "Epoch 12/40\n",
      "48000/48000 [==============================] - 1s 26us/step - loss: 0.0596 - acc: 0.9836 - val_loss: 0.1033 - val_acc: 0.9690\n",
      "Epoch 13/40\n",
      "48000/48000 [==============================] - 1s 27us/step - loss: 0.0542 - acc: 0.9848 - val_loss: 0.1053 - val_acc: 0.9686\n",
      "Epoch 14/40\n",
      "48000/48000 [==============================] - 1s 25us/step - loss: 0.0489 - acc: 0.9867 - val_loss: 0.1014 - val_acc: 0.9692\n",
      "Epoch 15/40\n",
      "48000/48000 [==============================] - 1s 29us/step - loss: 0.0427 - acc: 0.9887 - val_loss: 0.1006 - val_acc: 0.9705\n",
      "Epoch 16/40\n",
      "48000/48000 [==============================] - 1s 28us/step - loss: 0.0389 - acc: 0.9897 - val_loss: 0.1058 - val_acc: 0.9711\n",
      "Epoch 17/40\n",
      "48000/48000 [==============================] - 1s 20us/step - loss: 0.0361 - acc: 0.9905 - val_loss: 0.0998 - val_acc: 0.9718\n",
      "Epoch 18/40\n",
      "48000/48000 [==============================] - 1s 20us/step - loss: 0.0310 - acc: 0.9924 - val_loss: 0.1005 - val_acc: 0.9712\n",
      "Epoch 19/40\n",
      "48000/48000 [==============================] - 1s 20us/step - loss: 0.0282 - acc: 0.9936 - val_loss: 0.0995 - val_acc: 0.9731\n",
      "Epoch 20/40\n",
      "48000/48000 [==============================] - 1s 20us/step - loss: 0.0258 - acc: 0.9939 - val_loss: 0.1016 - val_acc: 0.9722\n",
      "Epoch 21/40\n",
      "48000/48000 [==============================] - 1s 20us/step - loss: 0.0243 - acc: 0.9941 - val_loss: 0.1009 - val_acc: 0.9723\n",
      "Epoch 22/40\n",
      "48000/48000 [==============================] - 1s 20us/step - loss: 0.0215 - acc: 0.9952 - val_loss: 0.1013 - val_acc: 0.9727\n",
      "Epoch 23/40\n",
      "48000/48000 [==============================] - 1s 20us/step - loss: 0.0182 - acc: 0.9963 - val_loss: 0.1023 - val_acc: 0.9728\n",
      "Epoch 24/40\n",
      "48000/48000 [==============================] - 1s 20us/step - loss: 0.0169 - acc: 0.9964 - val_loss: 0.1032 - val_acc: 0.9722\n",
      "Epoch 25/40\n",
      "48000/48000 [==============================] - 1s 20us/step - loss: 0.0149 - acc: 0.9970 - val_loss: 0.1088 - val_acc: 0.9712\n",
      "Epoch 26/40\n",
      "48000/48000 [==============================] - 1s 20us/step - loss: 0.0143 - acc: 0.9973 - val_loss: 0.1070 - val_acc: 0.9730\n",
      "Epoch 27/40\n",
      "48000/48000 [==============================] - 1s 19us/step - loss: 0.0120 - acc: 0.9980 - val_loss: 0.1040 - val_acc: 0.9741\n",
      "Epoch 28/40\n",
      "48000/48000 [==============================] - 1s 20us/step - loss: 0.0104 - acc: 0.9986 - val_loss: 0.1064 - val_acc: 0.9738\n",
      "Epoch 29/40\n",
      "48000/48000 [==============================] - 1s 20us/step - loss: 0.0094 - acc: 0.9986 - val_loss: 0.1093 - val_acc: 0.9722\n",
      "Epoch 30/40\n",
      "48000/48000 [==============================] - 1s 19us/step - loss: 0.0084 - acc: 0.9988 - val_loss: 0.1077 - val_acc: 0.9734\n",
      "Epoch 31/40\n",
      "48000/48000 [==============================] - 1s 20us/step - loss: 0.0072 - acc: 0.9992 - val_loss: 0.1098 - val_acc: 0.9739\n",
      "Epoch 32/40\n",
      "48000/48000 [==============================] - 1s 19us/step - loss: 0.0066 - acc: 0.9993 - val_loss: 0.1117 - val_acc: 0.9731\n",
      "Epoch 33/40\n",
      "48000/48000 [==============================] - 1s 19us/step - loss: 0.0060 - acc: 0.9994 - val_loss: 0.1129 - val_acc: 0.9737\n",
      "Epoch 34/40\n",
      "48000/48000 [==============================] - 1s 20us/step - loss: 0.0052 - acc: 0.9995 - val_loss: 0.1112 - val_acc: 0.9742\n",
      "Epoch 35/40\n",
      "48000/48000 [==============================] - 1s 19us/step - loss: 0.0045 - acc: 0.9996 - val_loss: 0.1136 - val_acc: 0.9733\n",
      "Epoch 36/40\n",
      "48000/48000 [==============================] - 1s 20us/step - loss: 0.0041 - acc: 0.9998 - val_loss: 0.1144 - val_acc: 0.9733\n",
      "Epoch 37/40\n",
      "48000/48000 [==============================] - 1s 19us/step - loss: 0.0037 - acc: 0.9998 - val_loss: 0.1154 - val_acc: 0.9738\n",
      "Epoch 38/40\n",
      "48000/48000 [==============================] - 1s 20us/step - loss: 0.0032 - acc: 0.9999 - val_loss: 0.1164 - val_acc: 0.9734\n",
      "Epoch 39/40\n",
      "48000/48000 [==============================] - 1s 20us/step - loss: 0.0030 - acc: 0.9999 - val_loss: 0.1176 - val_acc: 0.9743\n",
      "Epoch 40/40\n",
      "48000/48000 [==============================] - 1s 20us/step - loss: 0.0028 - acc: 0.9999 - val_loss: 0.1197 - val_acc: 0.9742\n"
     ]
    },
    {
     "data": {
      "text/plain": [
       "<keras.callbacks.History at 0x1708afa0a58>"
      ]
     },
     "execution_count": 106,
     "metadata": {},
     "output_type": "execute_result"
    }
   ],
   "source": [
    "#Training the model using the training data\n",
    "model.fit(X_train,Y_train,batch_size=1000,\n",
    "          epochs=40,validation_split=0.2)\n",
    "#All the above parameters in fit function are hyperparameters, change them and experiment with them to see what different results can be found"
   ]
  },
  {
   "cell_type": "code",
   "execution_count": 107,
   "metadata": {},
   "outputs": [],
   "source": [
    "#calculating test accuracy\n",
    "import numpy as np\n",
    "total = len(X_test)\n",
    "Y_pred = model.predict(X_test)\n",
    "corr=0\n",
    "for i in range(len(X_test)):\n",
    "    if np.argmax(Y_pred[i]) == np.argmax(Y_test[i]):\n",
    "        corr+=1"
   ]
  },
  {
   "cell_type": "code",
   "execution_count": 108,
   "metadata": {},
   "outputs": [
    {
     "name": "stdout",
     "output_type": "stream",
     "text": [
      "[9.5751861e-12 4.7174291e-09 9.3421767e-07 2.4554733e-05 4.2259760e-16\n",
      " 2.1630954e-12 2.5344562e-21 9.9997425e-01 3.3572153e-08 2.4189265e-07]\n"
     ]
    }
   ],
   "source": [
    "print(Y_pred[0])"
   ]
  },
  {
   "cell_type": "code",
   "execution_count": 109,
   "metadata": {},
   "outputs": [],
   "source": [
    "test_accuracy = corr/total"
   ]
  },
  {
   "cell_type": "code",
   "execution_count": 110,
   "metadata": {},
   "outputs": [
    {
     "data": {
      "text/plain": [
       "0.9761"
      ]
     },
     "execution_count": 110,
     "metadata": {},
     "output_type": "execute_result"
    }
   ],
   "source": [
    "test_accuracy"
   ]
  },
  {
   "cell_type": "code",
   "execution_count": 29,
   "metadata": {},
   "outputs": [
    {
     "data": {
      "text/plain": [
       "7"
      ]
     },
     "execution_count": 29,
     "metadata": {},
     "output_type": "execute_result"
    }
   ],
   "source": [
    "#working of argmax\n",
    "np.argmax(Y_pred[0])"
   ]
  },
  {
   "cell_type": "code",
   "execution_count": 30,
   "metadata": {},
   "outputs": [
    {
     "data": {
      "text/plain": [
       "7"
      ]
     },
     "execution_count": 30,
     "metadata": {},
     "output_type": "execute_result"
    }
   ],
   "source": [
    "np.argmax(Y_test[0])"
   ]
  },
  {
   "cell_type": "code",
   "execution_count": null,
   "metadata": {},
   "outputs": [],
   "source": []
  }
 ],
 "metadata": {
  "kernelspec": {
   "display_name": "Python 3",
   "language": "python",
   "name": "python3"
  },
  "language_info": {
   "codemirror_mode": {
    "name": "ipython",
    "version": 3
   },
   "file_extension": ".py",
   "mimetype": "text/x-python",
   "name": "python",
   "nbconvert_exporter": "python",
   "pygments_lexer": "ipython3",
   "version": "3.5.6"
  }
 },
 "nbformat": 4,
 "nbformat_minor": 2
}
