{
 "cells": [
  {
   "cell_type": "code",
   "execution_count": 1,
   "metadata": {},
   "outputs": [],
   "source": [
    "training_data = [['Green',3,'Apple'],\n",
    "                 ['Yellow',3,'Apple'],\n",
    "                 ['Red',1,'Grape'],\n",
    "                 ['Red',1,'Grape'],\n",
    "                 ['Yellow',3,'Lemon']] #TOY DATASET"
   ]
  },
  {
   "cell_type": "code",
   "execution_count": 2,
   "metadata": {},
   "outputs": [],
   "source": [
    "header = [\"Color\",\"Diameter\",\"label\"]"
   ]
  },
  {
   "cell_type": "code",
   "execution_count": 6,
   "metadata": {},
   "outputs": [],
   "source": [
    "def unique_vals(Data,col): #training_data,0\n",
    "    return set([row[col] for row in Data])"
   ]
  },
  {
   "cell_type": "code",
   "execution_count": 8,
   "metadata": {},
   "outputs": [
    {
     "data": {
      "text/plain": [
       "{'Apple', 'Grape', 'Lemon'}"
      ]
     },
     "execution_count": 8,
     "metadata": {},
     "output_type": "execute_result"
    }
   ],
   "source": [
    "unique_vals(training_data,2)"
   ]
  },
  {
   "cell_type": "code",
   "execution_count": 16,
   "metadata": {},
   "outputs": [
    {
     "data": {
      "text/plain": [
       "{'Apple': 2, 'Grape': 2, 'Lemon': 1}"
      ]
     },
     "execution_count": 16,
     "metadata": {},
     "output_type": "execute_result"
    }
   ],
   "source": [
    "{'Apple':2,'Grape':2,'Lemon':1}"
   ]
  },
  {
   "cell_type": "code",
   "execution_count": 17,
   "metadata": {},
   "outputs": [],
   "source": [
    "def class_counts(Data):\n",
    "    counts = {}\n",
    "    for row in Data:\n",
    "        label = row[-1]\n",
    "        if label not in counts:\n",
    "            counts[label] = 0\n",
    "        counts[label] += 1\n",
    "    return counts"
   ]
  },
  {
   "cell_type": "code",
   "execution_count": 18,
   "metadata": {},
   "outputs": [
    {
     "data": {
      "text/plain": [
       "{'Apple': 2, 'Grape': 2, 'Lemon': 1}"
      ]
     },
     "execution_count": 18,
     "metadata": {},
     "output_type": "execute_result"
    }
   ],
   "source": [
    "class_counts(training_data)"
   ]
  },
  {
   "cell_type": "code",
   "execution_count": 28,
   "metadata": {},
   "outputs": [],
   "source": [
    "class Question:\n",
    "    def __init__(self,column,value):\n",
    "        self.column = column\n",
    "        self.value = value\n",
    "    def match(self,example): #example means row --> ['Green',3,'Apple']\n",
    "        val = example[self.column]\n",
    "        return val == self.value #'Green' == 'Red', returns a boolean\n",
    "    def __repr__(self):\n",
    "        return \"Is %s %s %s?\" % (header[self.column],\"==\",str(self.value))"
   ]
  },
  {
   "cell_type": "code",
   "execution_count": 29,
   "metadata": {},
   "outputs": [
    {
     "data": {
      "text/plain": [
       "Is Color == Red?"
      ]
     },
     "execution_count": 29,
     "metadata": {},
     "output_type": "execute_result"
    }
   ],
   "source": [
    "Question(0,\"Red\")"
   ]
  },
  {
   "cell_type": "code",
   "execution_count": 30,
   "metadata": {},
   "outputs": [
    {
     "name": "stdout",
     "output_type": "stream",
     "text": [
      "Is Diameter == 3?\n"
     ]
    }
   ],
   "source": [
    "q = Question(1,3)\n",
    "print(q)"
   ]
  },
  {
   "cell_type": "code",
   "execution_count": 31,
   "metadata": {
    "scrolled": true
   },
   "outputs": [
    {
     "data": {
      "text/plain": [
       "True"
      ]
     },
     "execution_count": 31,
     "metadata": {},
     "output_type": "execute_result"
    }
   ],
   "source": [
    "q.match(training_data[0])"
   ]
  },
  {
   "cell_type": "code",
   "execution_count": 33,
   "metadata": {},
   "outputs": [],
   "source": [
    "def partition(Data,question):\n",
    "    true_rows,false_rows = [],[]\n",
    "    for row in Data: #row is also called example --> ['Green',3,'Apple']\n",
    "        if(question.match(row)):\n",
    "            true_rows.append(row) # --> [['Green',3,'Apple']]\n",
    "        else:\n",
    "            false_rows.append(row)\n",
    "    return true_rows,false_rows"
   ]
  },
  {
   "cell_type": "code",
   "execution_count": 43,
   "metadata": {},
   "outputs": [
    {
     "name": "stdout",
     "output_type": "stream",
     "text": [
      "True Rows:  [['Green', 3, 'Apple']]\n",
      "False Rows:  [['Yellow', 3, 'Apple'], ['Red', 1, 'Grape'], ['Red', 1, 'Grape'], ['Yellow', 3, 'Lemon']]\n"
     ]
    }
   ],
   "source": [
    "true_rows,false_rows = partition(training_data,\n",
    "                                 Question(0,'Green'))\n",
    "print('True Rows: ',true_rows)\n",
    "print('False Rows: ',false_rows)"
   ]
  },
  {
   "cell_type": "code",
   "execution_count": 44,
   "metadata": {},
   "outputs": [],
   "source": [
    "def gini(Data):\n",
    "    counts = class_counts(Data)\n",
    "    impurity = 1\n",
    "    for lbl in counts:\n",
    "        prob_of_lbl = counts[lbl]/float(len(Data))\n",
    "        impurity-=prob_of_lbl**2\n",
    "    return impurity"
   ]
  },
  {
   "cell_type": "code",
   "execution_count": 47,
   "metadata": {
    "collapsed": true
   },
   "outputs": [
    {
     "data": {
      "text/plain": [
       "0.6399999999999999"
      ]
     },
     "execution_count": 47,
     "metadata": {},
     "output_type": "execute_result"
    }
   ],
   "source": [
    "gini(training_data)"
   ]
  },
  {
   "cell_type": "code",
   "execution_count": 51,
   "metadata": {},
   "outputs": [],
   "source": [
    "def info_gain(left,right,current_impurity): #current impurity means GDS \n",
    "    #left means true, right means false\n",
    "    p = float(len(left))/(len(left)+len(right)) #prob of true rows\n",
    "    return current_impurity - p*gini(left) - (1-p)*gini(right)"
   ]
  },
  {
   "cell_type": "code",
   "execution_count": 68,
   "metadata": {},
   "outputs": [],
   "source": [
    "true_rows,false_rows = partition(training_data,\n",
    "                            Question(1,3))"
   ]
  },
  {
   "cell_type": "code",
   "execution_count": 71,
   "metadata": {},
   "outputs": [
    {
     "data": {
      "text/plain": [
       "0.37333333333333324"
      ]
     },
     "execution_count": 71,
     "metadata": {},
     "output_type": "execute_result"
    }
   ],
   "source": [
    "info_gain(true_rows,false_rows,gini(training_data))"
   ]
  },
  {
   "cell_type": "code",
   "execution_count": 67,
   "metadata": {},
   "outputs": [],
   "source": [
    "def find_best_split(Data):\n",
    "    best_gain = 0\n",
    "    best_question = None\n",
    "    current_impurity = gini(Data) #Gds\n",
    "    n_features = len(Data[0]) - 1\n",
    "    for col in range(n_features): #0\n",
    "        values = unique_vals(Data,col) #[Green,Red,Yellow] \n",
    "        for val in values:\n",
    "            question = Question(col,val)\n",
    "            true_rows,false_rows = partition(Data,question)\n",
    "            if(len(true_rows) == 0 or len(false_rows)==0):\n",
    "                continue\n",
    "            gain = info_gain(true_rows,\n",
    "                             false_rows,\n",
    "                             current_impurity)\n",
    "            if gain>=best_gain:\n",
    "                best_gain, best_question = gain , question\n",
    "    return best_gain,best_question"
   ]
  },
  {
   "cell_type": "code",
   "execution_count": 69,
   "metadata": {},
   "outputs": [
    {
     "name": "stdout",
     "output_type": "stream",
     "text": [
      "Is Diameter == 3?\n",
      "0.37333333333333324\n"
     ]
    }
   ],
   "source": [
    "best_gain,best_question = find_best_split(training_data)\n",
    "print(best_question)\n",
    "print(best_gain)"
   ]
  },
  {
   "cell_type": "code",
   "execution_count": 1,
   "metadata": {},
   "outputs": [],
   "source": [
    "class Leaf:\n",
    "    def __init__(self,Data):\n",
    "        self.predictions = class_counts(Data)"
   ]
  },
  {
   "cell_type": "code",
   "execution_count": 71,
   "metadata": {},
   "outputs": [],
   "source": [
    "class Decision_Node:\n",
    "    def __init__(self, question, true_branch,false_branch):\n",
    "        self.question = question\n",
    "        self.true_branch = true_branch\n",
    "        self.false_branch = false_branch\n",
    "        #print(self.question)"
   ]
  },
  {
   "cell_type": "code",
   "execution_count": 72,
   "metadata": {},
   "outputs": [],
   "source": [
    "def build_tree(Data,i=0):\n",
    "    gain, question = find_best_split(Data) #FIND BEST QUESTION\n",
    "    \n",
    "    if gain == 0:\n",
    "        return Leaf(Data)\n",
    "    true_rows , false_rows = partition(Data,question)\n",
    "    true_branch = build_tree(true_rows,i)\n",
    "    false_branch = build_tree(false_rows,i)\n",
    "    return Decision_Node(question,true_branch,false_branch)"
   ]
  },
  {
   "cell_type": "code",
   "execution_count": 73,
   "metadata": {},
   "outputs": [
    {
     "name": "stdout",
     "output_type": "stream",
     "text": [
      "<__main__.Decision_Node object at 0x0000025EE832F780>\n"
     ]
    }
   ],
   "source": [
    "my_tree = build_tree(training_data)\n",
    "print(my_tree)"
   ]
  },
  {
   "cell_type": "code",
   "execution_count": 74,
   "metadata": {},
   "outputs": [],
   "source": [
    "def print_tree(node,spacing=\"\"):\n",
    "    if isinstance(node, Leaf):\n",
    "        print(spacing + \"Predict\",node.predictions)\n",
    "        return\n",
    "    print(spacing+str(node.question))\n",
    "    print(spacing + \"--> True:\")\n",
    "    print_tree(node.true_branch , spacing + \"\\t\")\n",
    "    \n",
    "    print(spacing + \"--> False:\")\n",
    "    print_tree(node.false_branch , spacing + \"\\t\")\n",
    "    "
   ]
  },
  {
   "cell_type": "code",
   "execution_count": 75,
   "metadata": {
    "scrolled": false
   },
   "outputs": [
    {
     "name": "stdout",
     "output_type": "stream",
     "text": [
      "Is Diameter == 3?\n",
      "--> True:\n",
      "\tIs Color == Yellow?\n",
      "\t--> True:\n",
      "\t\tPredict {'Lemon': 1, 'Apple': 1}\n",
      "\t--> False:\n",
      "\t\tPredict {'Apple': 1}\n",
      "--> False:\n",
      "\tPredict {'Grape': 2}\n"
     ]
    }
   ],
   "source": [
    "print_tree(my_tree)"
   ]
  },
  {
   "cell_type": "code",
   "execution_count": 76,
   "metadata": {},
   "outputs": [],
   "source": [
    "def print_leaf(counts):\n",
    "    total = sum(counts.values())*1.0\n",
    "    probs = {}\n",
    "    for lbl in counts.keys():\n",
    "        probs[lbl] = str(int(counts[lbl]/total * 100)) + \"%\"\n",
    "    return probs"
   ]
  },
  {
   "cell_type": "code",
   "execution_count": 77,
   "metadata": {},
   "outputs": [],
   "source": [
    "def classify(row,node):\n",
    "    if isinstance(node,Leaf):\n",
    "        return node.predictions\n",
    "    if node.question.match(row):\n",
    "        return classify(row,node.true_branch)\n",
    "    else:\n",
    "        return classify(row,node.false_branch)"
   ]
  },
  {
   "cell_type": "code",
   "execution_count": 28,
   "metadata": {},
   "outputs": [],
   "source": [
    "testing_data = [\n",
    "    [\"Red\",1,\"Apple\"],\n",
    "    [\"Yellow\" , 3 , \"Apple\"]\n",
    "]"
   ]
  },
  {
   "cell_type": "code",
   "execution_count": 29,
   "metadata": {},
   "outputs": [
    {
     "name": "stdout",
     "output_type": "stream",
     "text": [
      "Actual: Apple. Predicted: {'Grape': '100%'}\n",
      "Actual: Apple. Predicted: {'Apple': '50%', 'Lemon': '50%'}\n"
     ]
    }
   ],
   "source": [
    "for row in testing_data:\n",
    "    print(\"Actual: %s. Predicted: %s\" % \n",
    "          (row[-1],print_leaf(classify(row,my_tree))))"
   ]
  },
  {
   "cell_type": "code",
   "execution_count": 90,
   "metadata": {},
   "outputs": [],
   "source": [
    "header=[\"outlook\",\"temperature\",\"humidity\",\"wind\",\"decision\"]\n",
    "\n",
    "training_data2= [\n",
    "['sunny','hot','high','weak','no'],\n",
    "['sunny','hot','high','strong','no'],\n",
    "['overcast','hot','high','weak','yes'],\n",
    "['rain','mild','high','weak','yes'],\n",
    "['rain','cool','normal','weak','yes'],\n",
    "['rain','cool','normal','strong','no'],\n",
    "['overcast','cool','normal','strong','yes'],\n",
    "['sunny','mild','high','weak','no'],\n",
    "['sunny','cool','normal','weak','yes'],\n",
    "['rain','mild','normal','weak','yes'],\n",
    "['sunny','mild','normal','strong','yes'],\n",
    "['overcast','mild','high','strong','yes'],\n",
    "['overcast','hot','normal','weak','yes'],\n",
    "['rain','mild','high','strong','no'],\n",
    "]"
   ]
  },
  {
   "cell_type": "code",
   "execution_count": 91,
   "metadata": {},
   "outputs": [],
   "source": [
    "my_tree2 = build_tree(training_data2)"
   ]
  },
  {
   "cell_type": "code",
   "execution_count": 92,
   "metadata": {},
   "outputs": [
    {
     "name": "stdout",
     "output_type": "stream",
     "text": [
      "Is outlook == overcast?\n",
      "--> True:\n",
      "\tPredict {'yes': 4}\n",
      "--> False:\n",
      "\tIs humidity == high?\n",
      "\t--> True:\n",
      "\t\tIs outlook == sunny?\n",
      "\t\t--> True:\n",
      "\t\t\tPredict {'no': 3}\n",
      "\t\t--> False:\n",
      "\t\t\tIs wind == strong?\n",
      "\t\t\t--> True:\n",
      "\t\t\t\tPredict {'no': 1}\n",
      "\t\t\t--> False:\n",
      "\t\t\t\tPredict {'yes': 1}\n",
      "\t--> False:\n",
      "\t\tIs wind == strong?\n",
      "\t\t--> True:\n",
      "\t\t\tIs temperature == cool?\n",
      "\t\t\t--> True:\n",
      "\t\t\t\tPredict {'no': 1}\n",
      "\t\t\t--> False:\n",
      "\t\t\t\tPredict {'yes': 1}\n",
      "\t\t--> False:\n",
      "\t\t\tPredict {'yes': 3}\n"
     ]
    }
   ],
   "source": [
    "print_tree(my_tree2)"
   ]
  },
  {
   "cell_type": "code",
   "execution_count": 93,
   "metadata": {},
   "outputs": [],
   "source": [
    "testing_data2 = [\"overcast\",\"mild\",\"normal\",\"weak\"]"
   ]
  },
  {
   "cell_type": "code",
   "execution_count": 94,
   "metadata": {},
   "outputs": [
    {
     "data": {
      "text/plain": [
       "{'yes': 4}"
      ]
     },
     "execution_count": 94,
     "metadata": {},
     "output_type": "execute_result"
    }
   ],
   "source": [
    "classify(testing_data2,my_tree2)"
   ]
  },
  {
   "cell_type": "code",
   "execution_count": 95,
   "metadata": {},
   "outputs": [
    {
     "name": "stdout",
     "output_type": "stream",
     "text": [
      "Predicted: {'yes': '100%'}\n"
     ]
    }
   ],
   "source": [
    "print(\"Predicted: %s\" % (print_leaf(classify(testing_data2,my_tree2))))"
   ]
  },
  {
   "cell_type": "code",
   "execution_count": null,
   "metadata": {},
   "outputs": [],
   "source": []
  }
 ],
 "metadata": {
  "kernelspec": {
   "display_name": "Python 3",
   "language": "python",
   "name": "python3"
  },
  "language_info": {
   "codemirror_mode": {
    "name": "ipython",
    "version": 3
   },
   "file_extension": ".py",
   "mimetype": "text/x-python",
   "name": "python",
   "nbconvert_exporter": "python",
   "pygments_lexer": "ipython3",
   "version": "3.6.9"
  }
 },
 "nbformat": 4,
 "nbformat_minor": 2
}
