{
 "cells": [
  {
   "cell_type": "code",
   "execution_count": 5,
   "metadata": {},
   "outputs": [],
   "source": [
    "import matplotlib.pyplot as plt\n",
    "from matplotlib import style\n",
    "import numpy as np\n",
    "style.use(\"ggplot\")"
   ]
  },
  {
   "cell_type": "code",
   "execution_count": 6,
   "metadata": {},
   "outputs": [],
   "source": [
    "colors = 10*[\"g\",\"r\",\"c\",\"b\",\"k\"]"
   ]
  },
  {
   "cell_type": "code",
   "execution_count": 7,
   "metadata": {},
   "outputs": [
    {
     "data": {
      "text/plain": [
       "array([[ 1. ,  2. ],\n",
       "       [ 1.5,  1.8],\n",
       "       [ 5. ,  8. ],\n",
       "       [ 8. ,  8. ],\n",
       "       [ 1. ,  0.6],\n",
       "       [ 9. , 11. ]])"
      ]
     },
     "execution_count": 7,
     "metadata": {},
     "output_type": "execute_result"
    }
   ],
   "source": [
    "#Taking 2 dimensional dummy data (Algo works for any number of dimensions)\n",
    "X = np.array([[1,2],\n",
    "              [1.5,1.8],\n",
    "              [5,8],\n",
    "             [8,8],\n",
    "              [1,0.6],\n",
    "             [9,11]])\n",
    "X"
   ]
  },
  {
   "cell_type": "code",
   "execution_count": 8,
   "metadata": {},
   "outputs": [
    {
     "name": "stdout",
     "output_type": "stream",
     "text": [
      "[1. 2.]\n",
      "[1.5 1.8]\n",
      "[5. 8.]\n",
      "[8. 8.]\n",
      "[1.  0.6]\n",
      "[ 9. 11.]\n"
     ]
    }
   ],
   "source": [
    "for featureset in X:\n",
    "    print(featureset)"
   ]
  },
  {
   "cell_type": "code",
   "execution_count": 10,
   "metadata": {},
   "outputs": [
    {
     "data": {
      "text/plain": [
       "1"
      ]
     },
     "execution_count": 10,
     "metadata": {},
     "output_type": "execute_result"
    }
   ],
   "source": [
    "dist = [0.69,0,73257]\n",
    "dist.index(min(dist))"
   ]
  },
  {
   "cell_type": "code",
   "execution_count": 27,
   "metadata": {},
   "outputs": [
    {
     "name": "stdout",
     "output_type": "stream",
     "text": [
      "[array([1.5, 1.8]), array([5., 8.]), array([8., 8.]), array([1. , 0.6]), array([ 9., 11.])]\n",
      "[4.9  5.88]\n"
     ]
    },
    {
     "data": {
      "text/plain": [
       "{0: array([1., 2.]), 1: array([4.9 , 5.88])}"
      ]
     },
     "execution_count": 27,
     "metadata": {},
     "output_type": "execute_result"
    }
   ],
   "source": [
    "row = [100,200,300,400]\n",
    "centroids = {0:[1,2],1:[1.5,1.8]}\n",
    "classifications = {0:[],1:[]}\n",
    "for featureset in X:\n",
    "    distances = [np.linalg.norm(featureset - centroids[centroid]) \n",
    "         for centroid in centroids]\n",
    "    cluster_no = distances.index(min(distances))\n",
    "    classifications[cluster_no].append(featureset)\n",
    "print(classifications[1])\n",
    "print(np.average(classifications[1],axis = 0))\n",
    "centroids[0] = np.average(classifications[0],axis = 0)\n",
    "centroids[1] = np.average(classifications[1],axis = 0)\n",
    "centroids"
   ]
  },
  {
   "cell_type": "code",
   "execution_count": 43,
   "metadata": {},
   "outputs": [],
   "source": [
    "optimised = True\n",
    "o_c = np.array([1.5,1.8])\n",
    "c_c = np.array([4.9,5.88]) #[226,226] > 0.01 --> np.sum([True,True])\n",
    "if np.sum(((c_c-o_c)/o_c)*100>0.01):\n",
    "    optimised = False"
   ]
  },
  {
   "cell_type": "code",
   "execution_count": 46,
   "metadata": {},
   "outputs": [],
   "source": [
    "#Making a class for K_Means classifier with functions like fit and predict\n",
    "class K_Means: #Taken from sklearn library \n",
    "    \n",
    "    def __init__(self,k=2,tol=0.001,max_iter=300):\n",
    "        self.k = k\n",
    "        self.tol = tol\n",
    "        self.max_iter = max_iter\n",
    "        #self.all_c = {}\n",
    "   \n",
    "    def fit(self,data): #Used for training classifier\n",
    "        #fig = plt.figure()\n",
    "        #ax = plt.axes()\n",
    "        \n",
    "        #def cenPlot(cent): #used to plot the path of centroids\n",
    "            #for centroid in cent:\n",
    "                #plt.scatter(cent[centroid][0],cent[centroid][1],marker='x',s=50)\n",
    "                #plt.plot(cent[centroid][0],cent[centroid][1])\n",
    "                \n",
    "            #plt.show() #comment this line if you want everything in 1 graph\n",
    "            \n",
    "        self.centroids = {} #{0:[1,2], 1:[1.5,1.8]}\n",
    "        for i in range(self.k): #1\n",
    "            self.centroids[i] = data[i]\n",
    "            #self.all_c[i] = [[data[i][0]],[data[i][1]]]\n",
    "            \n",
    "            \n",
    "        for i in range(self.max_iter):\n",
    "            self.classifications = {} #{0:[],1:[]} --> Cluster Dictionary\n",
    "            for i in range(self.k):\n",
    "                self.classifications[i] = []\n",
    "                            \n",
    "            for featureset in data: #Finding distances from all centroids and comparing them for each point in dataset\n",
    "                distances = [np.linalg.norm(featureset - self.centroids[centroid]) \n",
    "                             for centroid in self.centroids]\n",
    "                classification = distances.index(min(distances)) #Taking index of minimum distance\n",
    "                self.classifications[classification].append(featureset) #classifying point to cluster of min distance\n",
    "            \n",
    "            prev_centroids = dict(self.centroids)\n",
    "            \n",
    "            for classification in self.classifications: #0,1\n",
    "                \n",
    "                self.centroids[classification] = np.average(self.classifications[classification],axis=0)\n",
    "                #self.all_c[classification][0].append(self.centroids[classification][0])\n",
    "                #self.all_c[classification][1].append(self.centroids[classification][1])\n",
    "                \n",
    "            optimized = True\n",
    "            \n",
    "            for c in self.centroids: #0 --> 1\n",
    "                original_centroid = prev_centroids[c] #[1,2]\n",
    "                current_centroid = self.centroids[c] #[1,2]\n",
    "                if np.sum(((current_centroid-original_centroid)/original_centroid)*100 > self.tol): \n",
    "                    #checking if clusters moved significantly (acc. to tolerancne value)\n",
    "                    optimized = False\n",
    "                    \n",
    "            if optimized:\n",
    "                #cenPlot(self.all_c)\n",
    "                break\n",
    "                    \n",
    "        #anim = animation.FuncAnimation(fig,animate,1000)\n",
    "        #plt.show()\n",
    "        \n",
    "    def predict(self,data):\n",
    "        distances = [np.linalg.norm(data-\n",
    "                            self.centroids[centroid]) \n",
    "                     for centroid in self.centroids]\n",
    "        classification = distances.index(min(distances))\n",
    "        return classification"
   ]
  },
  {
   "cell_type": "code",
   "execution_count": 53,
   "metadata": {},
   "outputs": [
    {
     "name": "stdout",
     "output_type": "stream",
     "text": [
      "{0: array([1.16666667, 1.46666667]), 1: array([7.33333333, 9.        ])}\n",
      "0\n"
     ]
    },
    {
     "data": {
      "image/png": "[encoded data removed]",
      "text/plain": [
       "<Figure size 432x288 with 1 Axes>"
      ]
     },
     "metadata": {},
     "output_type": "display_data"
    }
   ],
   "source": [
    "clf = K_Means(k=2,tol=0.001,max_iter=300)\n",
    "clf.fit(X)\n",
    "print(clf.centroids)\n",
    "print(clf.predict([2,1]))\n",
    "for classification in clf.classifications:\n",
    "    color = colors[classification]\n",
    "    for featureset in clf.classifications[classification]:\n",
    "        plt.scatter(featureset[0],featureset[1],\n",
    "                    marker = \"o\",s=90,\n",
    "                    color = color)\n",
    "for centroid in clf.centroids:\n",
    "    plt.scatter(clf.centroids[centroid][0],\n",
    "                clf.centroids[centroid][1],\n",
    "                marker = \"x\" , \n",
    "                color = \"k\",s=50)\n",
    "#print(clf.all_c)\n",
    "plt.scatter(2,1,color='b',s = 90)\n",
    "plt.show()"
   ]
  },
  {
   "cell_type": "code",
   "execution_count": 22,
   "metadata": {},
   "outputs": [
    {
     "name": "stdout",
     "output_type": "stream",
     "text": [
      "{0: array([1.16666667, 1.46666667]), 1: array([7.33333333, 9.        ])}\n"
     ]
    }
   ],
   "source": [
    "print(clf.centroids)"
   ]
  }
 ],
 "metadata": {
  "kernelspec": {
   "display_name": "Python 3",
   "language": "python",
   "name": "python3"
  },
  "language_info": {
   "codemirror_mode": {
    "name": "ipython",
    "version": 3
   },
   "file_extension": ".py",
   "mimetype": "text/x-python",
   "name": "python",
   "nbconvert_exporter": "python",
   "pygments_lexer": "ipython3",
   "version": "3.6.9"
  }
 },
 "nbformat": 4,
 "nbformat_minor": 2
}
