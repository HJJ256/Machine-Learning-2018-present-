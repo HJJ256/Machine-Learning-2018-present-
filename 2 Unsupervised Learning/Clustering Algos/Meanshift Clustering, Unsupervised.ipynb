{
 "cells": [
  {
   "cell_type": "code",
   "execution_count": 1,
   "metadata": {},
   "outputs": [
    {
     "data": {
      "text/plain": [
       "<Figure size 640x480 with 1 Axes>"
      ]
     },
     "metadata": {},
     "output_type": "display_data"
    }
   ],
   "source": [
    "import matplotlib.pyplot as plt\n",
    "from matplotlib import style\n",
    "style.use('ggplot')\n",
    "import numpy as np\n",
    "\n",
    "X = np.array([[1, 2],\n",
    "              [1.5, 1.8],\n",
    "              [5, 8 ],\n",
    "              [8, 8],\n",
    "              [1, 0.6],\n",
    "              [9,11],\n",
    "              [8,2],\n",
    "              [10,2],\n",
    "              [9,3],])\n",
    "\n",
    "plt.scatter(X[:,0], X[:,1], s=150)\n",
    "plt.show()\n",
    "\n",
    "colors = 10*[\"g\",\"r\",\"c\",\"b\",\"k\"]"
   ]
  },
  {
   "cell_type": "markdown",
   "metadata": {},
   "source": [
    "Make all datapoints centroids\n",
    "Take mean of all featuresets within centroid's radius, setting this mean as new centroid.\n",
    "Repeat step #2 until convergence."
   ]
  },
  {
   "cell_type": "code",
   "execution_count": 18,
   "metadata": {},
   "outputs": [
    {
     "name": "stdout",
     "output_type": "stream",
     "text": [
      "{0: array([5.83333333, 4.26666667])}\n"
     ]
    },
    {
     "data": {
      "text/plain": [
       "0"
      ]
     },
     "execution_count": 18,
     "metadata": {},
     "output_type": "execute_result"
    }
   ],
   "source": [
    "import matplotlib.pyplot as plt\n",
    "from matplotlib import style\n",
    "style.use('ggplot')\n",
    "import numpy as np\n",
    "\n",
    "X = np.array([[1, 2],[1.5, 1.8],[5, 8 ],[8, 8],[1, 0.6],\n",
    "              [9,11],[8,2],[10,2],[9,3]])\n",
    "colors = 10*[\"g\",\"r\",\"c\",\"b\",\"k\"]\n",
    "\n",
    "class Mean_Shift:\n",
    "    def __init__(self, radius=10):\n",
    "        self.radius = radius\n",
    "\n",
    "    def fit(self, data):\n",
    "        centroids = {}\n",
    "\n",
    "        for i in range(len(data)):\n",
    "            centroids[i] = data[i]\n",
    "        while True:        \n",
    "            new_centroids = []\n",
    "            for i in centroids:\n",
    "                in_bandwidth = []\n",
    "                centroid = centroids[i]\n",
    "                for featureset in data:\n",
    "                    if np.linalg.norm(featureset-\n",
    "                        centroid) < self.radius:\n",
    "                        in_bandwidth.append(featureset)\n",
    "\n",
    "                new_centroid = np.average(in_bandwidth,axis=0)\n",
    "                new_centroids.append(tuple(new_centroid))\n",
    "                \n",
    "            uniques = sorted(list(set(new_centroids)))\n",
    "            prev_centroids = dict(centroids)\n",
    "            centroids = {}\n",
    "            for i in range(len(uniques)):\n",
    "                centroids[i] = np.array(uniques[i])\n",
    "            optimized = True\n",
    "            for i in centroids:\n",
    "                if (np.array_equal(centroids[i],\n",
    "                    prev_centroids[i])) != True:\n",
    "                    optimized = False                 \n",
    "                    break\n",
    "            if optimized: \n",
    "                break    \n",
    "        self.centroids = centroids\n",
    "    \n",
    "    def predict(self,data):\n",
    "        distances = [np.linalg.norm(data - \n",
    "                    self.centroids[centroid]) \n",
    "                     for centroid in self.centroids]\n",
    "        classification = distances.index(\n",
    "            min(distances))\n",
    "        return classification\n",
    "\n",
    "clf = sklearn.Mean_Shift()\n",
    "clf.fit(X)\n",
    "centroids = clf.centroids\n",
    "print(centroids)\n",
    "clf.predict((10,2))"
   ]
  },
  {
   "cell_type": "code",
   "execution_count": 19,
   "metadata": {},
   "outputs": [
    {
     "data": {
      "text/plain": [
       "0"
      ]
     },
     "execution_count": 19,
     "metadata": {},
     "output_type": "execute_result"
    }
   ],
   "source": [
    "clf.predict((10,2))"
   ]
  },
  {
   "cell_type": "code",
   "execution_count": 20,
   "metadata": {},
   "outputs": [],
   "source": [
    "import pandas as pd\n",
    "df = pd.read_csv('Breast-Cancer.csv')\n",
    "df.replace('?',-99999,inplace=True)\n",
    "df.drop(['id','label'],axis=1,inplace=True)"
   ]
  },
  {
   "cell_type": "code",
   "execution_count": 21,
   "metadata": {},
   "outputs": [],
   "source": [
    "data = np.array(df.astype(float).values.tolist())"
   ]
  },
  {
   "cell_type": "code",
   "execution_count": 22,
   "metadata": {},
   "outputs": [
    {
     "name": "stdout",
     "output_type": "stream",
     "text": [
      "{0: array([ 2.76923077e+00,  1.46153846e+00,  2.07692308e+00,  1.00000000e+00,\n",
      "        1.84615385e+00, -9.99990000e+04,  2.53846154e+00,  1.30769231e+00,\n",
      "        1.00000000e+00]), 1: array([3.08695652, 1.33913043, 1.47173913, 1.37826087, 2.13913043,\n",
      "       1.39565217, 2.1326087 , 1.30652174, 1.09347826]), 2: array([3.08714597, 1.33333333, 1.46623094, 1.35947712, 2.1328976 ,\n",
      "       1.39651416, 2.13071895, 1.30283224, 1.09368192]), 3: array([6.74654378, 5.5437788 , 5.57142857, 4.83410138, 4.53456221,\n",
      "       7.2718894 , 5.39631336, 5.14746544, 1.84331797]), 4: array([6.84331797, 5.73271889, 5.76497696, 4.83870968, 4.66820276,\n",
      "       7.3640553 , 5.44700461, 5.23502304, 1.85714286]), 5: array([6.86111111, 5.74074074, 5.77314815, 4.81481481, 4.66666667,\n",
      "       7.39351852, 5.45833333, 5.24537037, 1.86111111]), 6: array([6.86976744, 5.73953488, 5.77674419, 4.80930233, 4.64186047,\n",
      "       7.42325581, 5.46976744, 5.26511628, 1.86511628]), 7: array([6.88785047, 5.71962617, 5.78971963, 4.78504673, 4.63551402,\n",
      "       7.41121495, 5.47196262, 5.28504673, 1.85514019]), 8: array([6.90740741, 6.05555556, 6.09722222, 5.11574074, 4.88425926,\n",
      "       7.73148148, 5.74537037, 5.49074074, 1.93518519]), 9: array([6.90740741, 6.12037037, 6.15277778, 5.19907407, 4.88888889,\n",
      "       7.79166667, 5.7962963 , 5.52777778, 1.94444444]), 10: array([6.91705069, 6.05069124, 6.10599078, 5.09677419, 4.87096774,\n",
      "       7.70967742, 5.7281106 , 5.47004608, 1.94930876]), 11: array([6.92165899, 6.07373272, 6.11520737, 5.13824885, 4.89400922,\n",
      "       7.74193548, 5.75115207, 5.51152074, 1.94470046]), 12: array([6.92165899, 6.10599078, 6.14746544, 5.1797235 , 4.9124424 ,\n",
      "       7.77880184, 5.78341014, 5.5483871 , 1.94470046]), 13: array([6.92592593, 6.14814815, 6.18981481, 5.24074074, 4.90277778,\n",
      "       7.81481481, 5.82407407, 5.56944444, 1.96296296]), 14: array([6.93087558, 6.16589862, 6.20737327, 5.26267281, 4.9124424 ,\n",
      "       7.80184332, 5.8156682 , 5.58064516, 1.98617512]), 15: array([6.94009217, 6.13364055, 6.1843318 , 5.22119816, 4.92626728,\n",
      "       7.80184332, 5.81105991, 5.58986175, 1.96313364]), 16: array([6.94495413, 6.15137615, 6.20183486, 5.24311927, 4.93577982,\n",
      "       7.78899083, 5.80275229, 5.60091743, 1.98623853])}\n"
     ]
    }
   ],
   "source": [
    "clf = Mean_Shift()\n",
    "clf.fit(data)\n",
    "centroids = clf.centroids\n",
    "print(centroids)\n"
   ]
  },
  {
   "cell_type": "code",
   "execution_count": null,
   "metadata": {},
   "outputs": [],
   "source": []
  },
  {
   "cell_type": "code",
   "execution_count": null,
   "metadata": {},
   "outputs": [],
   "source": []
  },
  {
   "cell_type": "code",
   "execution_count": 11,
   "metadata": {},
   "outputs": [
    {
     "data": {
      "text/plain": [
       "0"
      ]
     },
     "execution_count": 11,
     "metadata": {},
     "output_type": "execute_result"
    }
   ],
   "source": [
    "l = [3,4,6] #list of distances with cluster 0,1,2 respectively\n",
    "l.index(min(l)) #Gives me name of cluster with min distance from pt"
   ]
  },
  {
   "cell_type": "code",
   "execution_count": null,
   "metadata": {},
   "outputs": [],
   "source": []
  }
 ],
 "metadata": {
  "kernelspec": {
   "display_name": "Python 3",
   "language": "python",
   "name": "python3"
  },
  "language_info": {
   "codemirror_mode": {
    "name": "ipython",
    "version": 3
   },
   "file_extension": ".py",
   "mimetype": "text/x-python",
   "name": "python",
   "nbconvert_exporter": "python",
   "pygments_lexer": "ipython3",
   "version": "3.5.6"
  }
 },
 "nbformat": 4,
 "nbformat_minor": 2
}
